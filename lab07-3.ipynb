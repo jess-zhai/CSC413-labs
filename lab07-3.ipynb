{
  "cells": [
    {
      "cell_type": "markdown",
      "id": "e2dae6e9",
      "metadata": {
        "id": "e2dae6e9"
      },
      "source": [
        "# CSC413 Lab 7: Text Classification using RNNs\n",
        "\n",
        "**Sentiment Analysis** is the problem of identifying the writer's sentiment given a piece of text.\n",
        "Sentiment Analysis can be applied to movie reviews, feedback of other forms, emails, tweets,\n",
        "course evaluations, and much more.\n",
        "\n",
        "In this lab, we will build an RNN to classify positive vs negative tweets\n",
        "We use the Sentiment140 data set, which contains tweets with either a positive\n",
        "or negative emoticon. Our goal is to determine whether which type of\n",
        "emoticon the tweet (with the emoticon removed) contained. The dataset was actually collected by\n",
        "a group of students, much like you, who are doing their first machine learning projects.\n",
        "\n",
        "By the end of this lab, you will be able to:\n",
        "\n",
        "- Use PyTorch to train an RNN model\n",
        "- Apply and analyze the components of an RNN model\n",
        "- Explain how batching is done on sequence data, where the training data in a batch may have different lengths\n",
        "- Use pre-trained word embeddings as part of a transfer learning strategy for text classification\n",
        "- Understand the bias that exists in word embeddings and language models.\n",
        "\n",
        "Acknowledgements:\n",
        "\n",
        "- Data is sampled from http://help.sentiment140.com/for-students\n",
        "\n",
        "\n",
        "Please work in groups of 1-2 during the lab.\n",
        "\n",
        "## Submission\n",
        "\n",
        "If you are working with a partner, start by creating a group on Markus. If you are working alone,\n",
        "click \"Working Alone\".\n",
        "\n",
        "Submit the ipynb file `lab10.ipynb` on Markus\n",
        "**containing all your solutions to the Graded Task**s.\n",
        "Your notebook file must contain your code **and outputs** where applicable,\n",
        "including printed lines and images.\n",
        "Your TA will not run your code for the purpose of grading.\n",
        "\n",
        "For this lab, you should submit the following:\n",
        "\n",
        "- Part 1. Your output showing several positive tweets. (1 point)\n",
        "- Part 2. Your implementation of the RNN. (5 point)\n",
        "- Part 2. Your explanation of the shapes of `wordemb`. (1 point)\n",
        "- Part 2. Your explanation of the shapes of `h` and `out`. (2 points)\n",
        "- Part 3. Your demonstration of the model's ability to \"overfit\" on a data set. (1 point)\n",
        "- Part 3. Your output from training the model on the full data set. (1 point)\n",
        "- Part 3. Your comparison of using a different architecture from before. (2 points)\n",
        "- Part 4. Your implementation of `MyGloveRnn`. (2 points)\n",
        "- Part 4. Your explanation of why `MyGloveRNN` requires fewer iteration to obtain \"good\" accuracy. (1 point)\n",
        "- Part 4. Your comparison of `MyGloveRNN` and `MyRNN` in low data settings. (1 point)\n",
        "- Part 4. Your explanation of where the biases in embeddings come from, and whether our model will have the same sorts of biases. (1 point)\n",
        "- Part 5. Your reflection on the sentiment analysis task. (2 points)\n",
        "\n",
        "\n",
        "## Part 1. Data\n",
        "\n",
        "Start by running these two lines of code to download the data on to Google Colab."
      ]
    },
    {
      "cell_type": "code",
      "execution_count": null,
      "id": "dc4d293f",
      "metadata": {
        "colab": {
          "base_uri": "https://localhost:8080/"
        },
        "id": "dc4d293f",
        "outputId": "a9f66f24-3355-4014-ef75-d59fd04890f6"
      },
      "outputs": [
        {
          "output_type": "stream",
          "name": "stdout",
          "text": [
            "--2024-03-29 15:01:42--  https://www.cs.toronto.edu/~lczhang/413/sample_tweets.csv\n",
            "Resolving www.cs.toronto.edu (www.cs.toronto.edu)... 128.100.3.30\n",
            "Connecting to www.cs.toronto.edu (www.cs.toronto.edu)|128.100.3.30|:443... connected.\n",
            "HTTP request sent, awaiting response... 200 OK\n",
            "Length: 11099815 (11M) [text/csv]\n",
            "Saving to: ‘sample_tweets.csv’\n",
            "\n",
            "sample_tweets.csv   100%[===================>]  10.58M  35.8MB/s    in 0.3s    \n",
            "\n",
            "2024-03-29 15:01:43 (35.8 MB/s) - ‘sample_tweets.csv’ saved [11099815/11099815]\n",
            "\n"
          ]
        }
      ],
      "source": [
        "# Download tutorial data files.\n",
        "!wget https://www.cs.toronto.edu/~lczhang/413/sample_tweets.csv"
      ]
    },
    {
      "cell_type": "markdown",
      "id": "127bfc6b",
      "metadata": {
        "id": "127bfc6b"
      },
      "source": [
        "As always, we start by understanding what our data looks like. Notice that the\n",
        "test set has been set aside for us. Both the training and test set files follow\n",
        "the same format. Each line in the csv file contains the tweet text,\n",
        "the string label \"4\" (positive) or \"0\" (negative), and some additional information about the tweet."
      ]
    },
    {
      "cell_type": "code",
      "execution_count": null,
      "id": "66f4afa9",
      "metadata": {
        "colab": {
          "base_uri": "https://localhost:8080/"
        },
        "id": "66f4afa9",
        "outputId": "200934c3-07d2-4a18-d300-fdd17b6ebed9"
      },
      "outputs": [
        {
          "output_type": "stream",
          "name": "stdout",
          "text": [
            "['0', '1467810672', 'Mon Apr 06 22:19:49 PDT 2009', 'NO_QUERY', 'scotthamilton', \"is upset that he can't update his Facebook by texting it... and might cry as a result  School today also. Blah!\"]\n",
            "['0', '1467812025', 'Mon Apr 06 22:20:09 PDT 2009', 'NO_QUERY', 'mimismo', '@twittera que me muera ? ']\n",
            "['0', '1467812723', 'Mon Apr 06 22:20:19 PDT 2009', 'NO_QUERY', 'TLeC', \"@caregiving I couldn't bear to watch it.  And I thought the UA loss was embarrassing . . . . .\"]\n",
            "['0', '1467813782', 'Mon Apr 06 22:20:34 PDT 2009', 'NO_QUERY', 'gi_gi_bee', '@FakerPattyPattz Oh dear. Were you drinking out of the forgotten table drinks? ']\n",
            "['0', '1467818481', 'Mon Apr 06 22:21:46 PDT 2009', 'NO_QUERY', 'lionslamb', \"He's the reason for the teardrops on my guitar the only one who has enough of me to break my heart \"]\n",
            "['0', '1467824967', 'Mon Apr 06 22:23:28 PDT 2009', 'NO_QUERY', 'playboybacon', \"Mo jobs, no money.  how in the hell is min wage here 4 f'n clams an hour?\"]\n",
            "['0', '1467835305', 'Mon Apr 06 22:26:10 PDT 2009', 'NO_QUERY', 'MissLaura317', \"@januarycrimson Sorry, babe!!  My fam annoys me too. Thankfully, they're asleep right now. Muahaha. *evil laugh*\"]\n",
            "['0', '1467836873', 'Mon Apr 06 22:26:33 PDT 2009', 'NO_QUERY', 'LeakySpoon', ' Body Of Missing Northern Calif. Girl Found: Police have found the remains of a missing Northern California girl .. http://tr.im/imji']\n",
            "['0', '1467840552', 'Mon Apr 06 22:27:34 PDT 2009', 'NO_QUERY', 'weefranniev', \"Late night snack, glass of OJ b/c I'm &quot;down with the sickness&quot;, then back to sleep...ugh I hate getting sick... \"]\n",
            "['0', '1467841189', 'Mon Apr 06 22:27:45 PDT 2009', 'NO_QUERY', 'yolie81', \"@grum WAH I can't see clip, must be el-stupido work filters. Can't wait 'till I get a 'puter. Something else 2 blame ex 4. He broke mine \"]\n",
            "['0', '1467879314', 'Mon Apr 06 22:37:46 PDT 2009', 'NO_QUERY', 'sarochka', 'Aaaaand the nausea is back. ']\n",
            "['0', '1467882902', 'Mon Apr 06 22:38:44 PDT 2009', 'NO_QUERY', 'usagiko', '@LevenRambin: Take it easy, and be good to you. ']\n"
          ]
        }
      ],
      "source": [
        "import csv\n",
        "datafile = \"sample_tweets.csv\"\n",
        "\n",
        "# Training/Validation set\n",
        "data = csv.reader(open(datafile))\n",
        "for i, line in enumerate(data):\n",
        "    print(line)\n",
        "    if i > 10:\n",
        "        break"
      ]
    },
    {
      "cell_type": "markdown",
      "id": "c0447dd5",
      "metadata": {
        "id": "c0447dd5"
      },
      "source": [
        "**Task**: How many positive and negative tweets are in this file?"
      ]
    },
    {
      "cell_type": "code",
      "execution_count": null,
      "id": "cd10bdc3",
      "metadata": {
        "colab": {
          "base_uri": "https://localhost:8080/"
        },
        "id": "cd10bdc3",
        "outputId": "b1a10630-3da8-4daf-dc33-e0b9ba2d21b5"
      },
      "outputs": [
        {
          "output_type": "stream",
          "name": "stdout",
          "text": [
            "Counter({'4': 40197, '0': 39694})\n"
          ]
        }
      ],
      "source": [
        "# TODO\n",
        "from collections import Counter\n",
        "print(Counter(x[0] for x in csv.reader(open(datafile))))"
      ]
    },
    {
      "cell_type": "markdown",
      "id": "59f3d6b4",
      "metadata": {
        "id": "59f3d6b4"
      },
      "source": [
        "**Graded Task**: We have printed several negative tweets above.\n",
        "Print 10 positive tweets."
      ]
    },
    {
      "cell_type": "code",
      "execution_count": null,
      "id": "8e3eff79",
      "metadata": {
        "colab": {
          "base_uri": "https://localhost:8080/"
        },
        "id": "8e3eff79",
        "outputId": "a406bf46-f18a-488e-b398-0db30aef3574"
      },
      "outputs": [
        {
          "output_type": "stream",
          "name": "stdout",
          "text": [
            "['4', '1467822272', 'Mon Apr 06 22:22:45 PDT 2009', 'NO_QUERY', 'ersle', 'I LOVE @Health4UandPets u guys r the best!! ']\n",
            "['4', '1467822814', 'Mon Apr 06 22:22:54 PDT 2009', 'NO_QUERY', 'misstoriblack', 'Just added tweetie to my new iPhone ']\n",
            "['4', '1467822936', 'Mon Apr 06 22:22:57 PDT 2009', 'NO_QUERY', 'adamjackson', \"Catching Up on Emails, RSS and Random BACN. Then I'm cutting out early tonight (11:30PM) to have Dinner with @lauraw \"]\n",
            "['4', '1467823405', 'Mon Apr 06 22:23:03 PDT 2009', 'NO_QUERY', 'gattermeier', 'reaching amritsar in an hour and (if i find a bus) should be at wagah border by 2pm  - http://bkite.com/06fuJ']\n",
            "['4', '1467823919', 'Mon Apr 06 22:23:10 PDT 2009', 'NO_QUERY', 'loveshine', 'YAY! found a new cuddle buddy ']\n",
            "['4', '1467841923', 'Mon Apr 06 22:27:57 PDT 2009', 'NO_QUERY', 'AishaNH', \"@JonathanRKnight hmm you have a lot to say tonight! That's great!  Of course, here I am up late reading it. haha\"]\n",
            "['4', '1467842136', 'Mon Apr 06 22:28:01 PDT 2009', 'NO_QUERY', 'Jamie_Cheroske', \"@enbaldarlingg No, that's just the mirror you're looking in. \"]\n",
            "['4', '1467843554', 'Mon Apr 06 22:28:23 PDT 2009', 'NO_QUERY', 'SerendipityMuse', 'amazing night with llama and malcolm and megan&lt;---fuck the theatre! ']\n",
            "['4', '1467844198', 'Mon Apr 06 22:28:33 PDT 2009', 'NO_QUERY', 'Lavanyaj', '@procoder hmmm, sure sure  so what r u upto ? hows the day for u?']\n",
            "['4', '1467844679', 'Mon Apr 06 22:28:41 PDT 2009', 'NO_QUERY', 'BackSassMaster', '@ijustine http://twitpic.com/1ff65 - I love ur top ']\n"
          ]
        }
      ],
      "source": [
        "# TODO: Please make sure to include both your code and the\n",
        "# printed output\n",
        "positive_counter = 0\n",
        "for i, line in enumerate(data):\n",
        "  if line[0] == \"4\":\n",
        "    print(line)\n",
        "    positive_counter += 1\n",
        "    if positive_counter == 10:\n",
        "      break"
      ]
    },
    {
      "cell_type": "markdown",
      "id": "e2b250aa",
      "metadata": {
        "id": "e2b250aa"
      },
      "source": [
        "We will now split the dataset into training, validation, and test sets:"
      ]
    },
    {
      "cell_type": "code",
      "execution_count": null,
      "id": "2c685c68",
      "metadata": {
        "id": "2c685c68"
      },
      "outputs": [],
      "source": [
        "# read the data; convert labels into integers\n",
        "data = [(review, int(label=='4'))  # label 1 = positive, 0 = negative\n",
        "        for label, _, _, _, _, review in csv.reader(open(datafile))]\n",
        "\n",
        "# shuffle the data, since the file stores all negative tweets first\n",
        "import random\n",
        "random.seed(42)\n",
        "random.shuffle(data)\n",
        "\n",
        "train_data = data[:50000]\n",
        "val_data = data[50000:60000]\n",
        "test_data = data[60000:]"
      ]
    },
    {
      "cell_type": "markdown",
      "id": "dc736187",
      "metadata": {
        "id": "dc736187"
      },
      "source": [
        "In order to be able to use neural networks to make predictions about these tweets,\n",
        "we need to begin by convert these tweets into sequences of numbers, each representing\n",
        "a words. This is akin to a one-hot encoding: each word will be converted into an\n",
        "a number representing the unique *index* of that word.\n",
        "\n",
        "Although we could do this conversion by writing our own python code,\n",
        "torch has a package called **torchtext** that has utilities useful for text classification\n",
        "and generation tasks.\n",
        "In particular, the `Vocab` class and `build_vocab_from_iterator` will be useful for us\n",
        "for building the mapping from words to indices."
      ]
    },
    {
      "cell_type": "code",
      "execution_count": null,
      "id": "8b500aac",
      "metadata": {
        "id": "8b500aac"
      },
      "outputs": [],
      "source": [
        "import torchtext\n",
        "\n",
        "from torchtext.data.utils import get_tokenizer\n",
        "from torchtext.vocab import Vocab, build_vocab_from_iterator\n",
        "\n",
        "# we will *tokenize* each word by using a tokenzier from\n",
        "# https://pytorch.org/text/stable/data_utils.html#get-tokenizer\n",
        "\n",
        "tokenizer = get_tokenizer(\"basic_english\")\n",
        "train_data_words = [tokenizer(x) for x, t in train_data]\n",
        "\n",
        "# build the vocabulary object. the parameters to this function\n",
        "# is described below\n",
        "vocab = build_vocab_from_iterator(train_data_words,\n",
        "                                  specials=['<bos>', '<eos>', '<unk>', '<pad>'],\n",
        "                                  min_freq=10)\n",
        "\n",
        "# set the index of a word not in the vocabulary\n",
        "vocab.set_default_index(2) # this is the index of the `<unk>` keyword"
      ]
    },
    {
      "cell_type": "markdown",
      "id": "a0bbf5ef",
      "metadata": {
        "id": "a0bbf5ef"
      },
      "source": [
        "Now, `vocab` is an object of class `Vocab` (see more here [https://pytorch.org/text/stable/vocab.html](https://pytorch.org/text/stable/vocab.html) )\n",
        "that provides functionalities for converting words into their indices.\n",
        "In addition to words appearing in the training set, ther are four special tokens that\n",
        "we use, akin to placeholder words:\n",
        "\n",
        "- `<bos>`, to indicate the beginning of a sequence.\n",
        "- `<eos>`, to indicate the end of a sequence.\n",
        "- `<unk>`, to indicate a word that is *not* in the vocabulary. This includes\n",
        "  words that appear too infrequently to be included in the vocabulary, and any\n",
        "  other words in the validation/test sets that are not see in training.\n",
        "- `<pad>`, used for padding shorter sequences in a batch: since each tweet\n",
        "  may have different length, the shorter tweets in each batch will be padded with\n",
        "  the `<pad>` token so that each sequence (tweet) in a batch has the same length.\n",
        "\n",
        "The `min_freq` parameter identifies the minimum number of times a word must appear in the\n",
        "training set in order to be included in the vocabulary.\n",
        "\n",
        "Here you can see the `vocab` object in action:"
      ]
    },
    {
      "cell_type": "code",
      "execution_count": null,
      "id": "14df52bb",
      "metadata": {
        "colab": {
          "base_uri": "https://localhost:8080/"
        },
        "id": "14df52bb",
        "outputId": "50991bde-6d16-4b08-ccb3-c7e021157f26"
      },
      "outputs": [
        {
          "output_type": "stream",
          "name": "stdout",
          "text": [
            "4117\n",
            "['<bos>', 'the', 'movie', 'pneumonoultramicroscopicsilicovolcanoconiosis', 'is', 'a', 'good', 'movie', ',', 'it', 'is', 'very', 'funny', '<eos>']\n",
            "[0, 9, 257, 2, 17, 11, 39, 257, 10, 15, 17, 137, 363, 1]\n"
          ]
        }
      ],
      "source": [
        "# Print the number of words in the vocabulary\n",
        "print(len(vocab))\n",
        "\n",
        "# Convert a tweet into a sequence of word indices.\n",
        "tweet = 'The movie Pneumonoultramicroscopicsilicovolcanoconiosis is a good movie, it is very funny'\n",
        "tokens = tokenizer(f'<bos> {tweet} <eos>')\n",
        "print(tokens)\n",
        "indices = vocab.forward(tokens)\n",
        "print(indices)"
      ]
    },
    {
      "cell_type": "markdown",
      "id": "7a7121d3",
      "metadata": {
        "id": "7a7121d3"
      },
      "source": [
        "**Task**: What is the index of the `<pad>` token?"
      ]
    },
    {
      "cell_type": "code",
      "execution_count": null,
      "id": "48ead0d8",
      "metadata": {
        "colab": {
          "base_uri": "https://localhost:8080/"
        },
        "id": "48ead0d8",
        "outputId": "ed149125-bafe-4d83-d909-adb4431f452a"
      },
      "outputs": [
        {
          "output_type": "stream",
          "name": "stdout",
          "text": [
            "['<pad>']\n",
            "[3]\n"
          ]
        }
      ],
      "source": [
        "# TODO: write code to identify the index of the `<pad>` token\n",
        "tokens = tokenizer(f'<pad>')\n",
        "print(tokens)\n",
        "indices = vocab.forward(tokens)\n",
        "print(indices)"
      ]
    },
    {
      "cell_type": "markdown",
      "id": "5f74d57d",
      "metadata": {
        "id": "5f74d57d"
      },
      "source": [
        "Now let's apply this transformation to the entire set of training, validation, and test data."
      ]
    },
    {
      "cell_type": "code",
      "execution_count": null,
      "id": "43a788d0",
      "metadata": {
        "id": "43a788d0"
      },
      "outputs": [],
      "source": [
        "\n",
        "def convert_indices(data, vocab):\n",
        "    \"\"\"Convert data of form [(tweet, label)...] where tweet is a string\n",
        "    into an equivalent list, but where the tweets represented as a list\n",
        "    of word indices.\n",
        "    \"\"\"\n",
        "    return [(vocab.forward(tokenizer(f'<bos> {text} <eos>')), label)\n",
        "            for (text, label) in data]\n",
        "\n",
        "train_data_indices = convert_indices(train_data, vocab)\n",
        "val_data_indices = convert_indices(val_data, vocab)\n",
        "test_data_indices = convert_indices(test_data, vocab)"
      ]
    },
    {
      "cell_type": "markdown",
      "id": "240070b9",
      "metadata": {
        "id": "240070b9"
      },
      "source": [
        "We have seen that PyTorch's `DataLoader` provides an easy way to form minibatches\n",
        "when we worked with image data. However, text and sequence data is more challenging to\n",
        "work with since the sequences may not be the same length.\n",
        "\n",
        "Although we can (and will!) continue to use `DataLoader` for our text data, we need to\n",
        "provide a function that merges sequences of various lengths into two PyTorch tensors\n",
        "correspondingg to the inputs and targets for that batch.\n",
        "\n",
        "\n",
        "**Task**: Following the instructions below, complete the `collate_batch` function,\n",
        "which creates the input and target tensors\n",
        "for a batch of data."
      ]
    },
    {
      "cell_type": "code",
      "execution_count": null,
      "id": "3f826103",
      "metadata": {
        "id": "3f826103"
      },
      "outputs": [],
      "source": [
        "import torch\n",
        "from torch.utils.data import DataLoader\n",
        "from torch.nn.utils.rnn import pad_sequence\n",
        "\n",
        "def collate_batch(batch):\n",
        "    \"\"\"\n",
        "    Returns the input and target tensors for a batch of data\n",
        "\n",
        "    Parameters:\n",
        "        `batch` - An iterable data structure of tuples (indices, label),\n",
        "                  where `indices` is a sequence of word indices, and\n",
        "                  `label` is either 1 or 0.\n",
        "\n",
        "    Returns: a tuple `(X, t)`, where\n",
        "        - `X` is a PyTorch tensor of shape (batch_size, sequence_length)\n",
        "        - `t` is a PyTorch tensor of shape (batch_size)\n",
        "    where `sequence_length` is the length of the longest sequence in the batch\n",
        "    \"\"\"\n",
        "\n",
        "    text_list = []  # collect each sample's sequence of word indices\n",
        "    label_list = [] # collect each sample's target labels\n",
        "    for (text_indices, label) in batch:\n",
        "        text_list.append(torch.tensor(text_indices))\n",
        "        # TODO: what do we need to do with `label`?\n",
        "        label_list.append(label)\n",
        "\n",
        "    X = pad_sequence(text_list, padding_value=3).transpose(0, 1)\n",
        "    t = torch.tensor(label_list) # TODO\n",
        "    return X, t\n",
        "\n",
        "\n",
        "train_dataloader = DataLoader(train_data_indices, batch_size=10, shuffle=True,\n",
        "                              collate_fn=collate_batch)"
      ]
    },
    {
      "cell_type": "markdown",
      "id": "d6019359",
      "metadata": {
        "id": "d6019359"
      },
      "source": [
        "With the above code in mind, we should be able to extract batches from `train_dataloader`.\n",
        "Notice that `X.shape` is different in each batch.\n",
        "You should also see that the index `3` is used to pad shorter sequences in in a batch."
      ]
    },
    {
      "cell_type": "code",
      "execution_count": null,
      "id": "508a5221",
      "metadata": {
        "colab": {
          "base_uri": "https://localhost:8080/"
        },
        "id": "508a5221",
        "outputId": "5844381b-b98c-4ef5-c12c-f154ed31ce03"
      },
      "outputs": [
        {
          "output_type": "stream",
          "name": "stdout",
          "text": [
            "torch.Size([10, 35]) torch.Size([10])\n",
            "torch.Size([10, 34]) torch.Size([10])\n",
            "torch.Size([10, 33]) torch.Size([10])\n",
            "torch.Size([10, 30]) torch.Size([10])\n",
            "torch.Size([10, 30]) torch.Size([10])\n",
            "torch.Size([10, 37]) torch.Size([10])\n",
            "torch.Size([10, 33]) torch.Size([10])\n",
            "torch.Size([10, 30]) torch.Size([10])\n",
            "torch.Size([10, 31]) torch.Size([10])\n",
            "torch.Size([10, 30]) torch.Size([10])\n",
            "torch.Size([10, 28]) torch.Size([10])\n",
            "tensor([[   0,   89, 2932,   10,   15,  274,   47,   15,    7,   20,  142,   18,\n",
            "           13,    4,  154,  353,  172,   63,    1,    3,    3,    3,    3,    3,\n",
            "            3,    3,    3,    3],\n",
            "        [   0,    2,   95,    2,   16,    6,    2,    2,    1,    3,    3,    3,\n",
            "            3,    3,    3,    3,    3,    3,    3,    3,    3,    3,    3,    3,\n",
            "            3,    3,    3,    3],\n",
            "        [   0,    2,    2, 1145,   23,    2,   16,    1,    3,    3,    3,    3,\n",
            "            3,    3,    3,    3,    3,    3,    3,    3,    3,    3,    3,    3,\n",
            "            3,    3,    3,    3],\n",
            "        [   0, 1354,   19,  152,   31, 1171,    1,    3,    3,    3,    3,    3,\n",
            "            3,    3,    3,    3,    3,    3,    3,    3,    3,    3,    3,    3,\n",
            "            3,    3,    3,    3],\n",
            "        [   0,    2, 2498,  713,  705,    6,   16,   96, 3471,    1,    3,    3,\n",
            "            3,    3,    3,    3,    3,    3,    3,    3,    3,    3,    3,    3,\n",
            "            3,    3,    3,    3],\n",
            "        [   0,    2,  160,   50,  609,    1,    3,    3,    3,    3,    3,    3,\n",
            "            3,    3,    3,    3,    3,    3,    3,    3,    3,    3,    3,    3,\n",
            "            3,    3,    3,    3],\n",
            "        [   0,    2,    2,    4,   29,    5,   61,   15,   38,    4,   12, 1560,\n",
            "         1676,   15,    8,   25,    5,  124,  436,  104,  154,   38,    6,    1,\n",
            "            3,    3,    3,    3],\n",
            "        [   0,    2,  112,   13,   67,   47,   15,    1,    3,    3,    3,    3,\n",
            "            3,    3,    3,    3,    3,    3,    3,    3,    3,    3,    3,    3,\n",
            "            3,    3,    3,    3],\n",
            "        [   0,    2, 1208,    6,   39,  109,    6,   80,    7,   86, 1377,  635,\n",
            "            4,    4,    4,   48, 1118,    6,  121,    1,    3,    3,    3,    3,\n",
            "            3,    3,    3,    3],\n",
            "        [   0,    2,  121,    4,   51,   35,   27,  151,   14,  249,    4,   29,\n",
            "           54,    7,  134,   73,  289,   44,  150,   27,   38,    5,  253,   15,\n",
            "          235,    8,   13,    1]])\n"
          ]
        }
      ],
      "source": [
        "for i, (X, t) in enumerate(train_dataloader):\n",
        "    print(X.shape, t.shape)\n",
        "    if i >= 10:\n",
        "        break\n",
        "\n",
        "print(X)"
      ]
    },
    {
      "cell_type": "markdown",
      "id": "873bb15a",
      "metadata": {
        "id": "873bb15a"
      },
      "source": [
        "**Task**: Why does each sequence begin with the token `0`, and end with the token `1` (ignoring\n",
        "the paddings)."
      ]
    },
    {
      "cell_type": "code",
      "execution_count": null,
      "id": "359d173e",
      "metadata": {
        "id": "359d173e"
      },
      "outputs": [],
      "source": [
        "# TODO: Your explanation goes here\n",
        "# because we notice that in the previous part, the index of token <bos> is 0,\n",
        "# and the index of <eos> is 1. The actual tweet is wrapped in these 2 tokens.\n",
        "# That's why each sequence begins with token 0 and ends with token 1."
      ]
    },
    {
      "cell_type": "markdown",
      "id": "2a02e457",
      "metadata": {
        "id": "2a02e457"
      },
      "source": [
        "## Part 2. Model\n",
        "\n",
        "We will use a recurrent neural network model to classify positive vs negative\n",
        "sentiments. Our RNN model will have three components that are typical in a\n",
        "sequence classification model:\n",
        "\n",
        "- An *embedding layer*, which will map each word index (akin to a one-hot embedding)\n",
        "  into a low-dimensional vector. This layer as having the same functionality as the\n",
        "  weights $W^{(word)}$ from lab 2.\n",
        "- A *recurrent layer*, which performs the recurrent neural network computation.\n",
        "  The input to this layer is the low-dimensional embedding vectors\n",
        "  for each word in the sequence.\n",
        "- A *fully connected layer*, which computes the final binary classification using\n",
        "  features computed from the recurrent layer. Think about how you can combine the per-timestep\n",
        "  output of the RNN into one final prediction.\n",
        "\n",
        "Let's define the model that we will use, and then explore it step by step.\n",
        "\n",
        "**Graded Task**: Implement the forward pass of the model and the RNN component."
      ]
    },
    {
      "cell_type": "code",
      "execution_count": null,
      "id": "17b70735",
      "metadata": {
        "id": "17b70735"
      },
      "outputs": [],
      "source": [
        "import torch.nn as nn\n",
        "import torch.nn.functional as F\n",
        "\n",
        "class MyRNN(nn.Module):\n",
        "    def __init__(self, vocab_size, emb_size, hidden_size, num_classes):\n",
        "        super(MyRNN, self).__init__()\n",
        "        self.vocab_size = vocab_size\n",
        "        self.emb_size = emb_size\n",
        "        self.hidden_size = hidden_size\n",
        "        self.num_classes = num_classes\n",
        "        self.emb = nn.Embedding(vocab_size, emb_size)\n",
        "        # TODO: Your code here\n",
        "        self.rnn = nn.RNN(self.emb_size, self.hidden_size, batch_first=True,\n",
        "                          nonlinearity='relu', num_layers=2, bidirectional=True)\n",
        "        self.fc = nn.Linear(2 * self.hidden_size, num_classes)\n",
        "        self.layer_norm = nn.LayerNorm(2 * hidden_size)\n",
        "\n",
        "    def forward(self, X):\n",
        "        # TODO: Your code here\n",
        "        x_emb = self.emb(X)\n",
        "        rnn_out, hn = self.rnn(x_emb)\n",
        "        hidden = torch.cat((hn[-2,:,:], hn[-1,:,:]), dim=1)\n",
        "        norm_out = self.layer_norm(hidden)  # Layer normalization\n",
        "        out = self.fc(norm_out)\n",
        "\n",
        "        return out\n",
        "\n",
        "model = MyRNN(len(vocab), 128, 64, 2)"
      ]
    },
    {
      "cell_type": "markdown",
      "id": "69ba7780",
      "metadata": {
        "id": "69ba7780"
      },
      "source": [
        "To explore exactly what this model is doing, let's grab one batch of data from\n",
        "the data loader we created. We will observe, step-by-step, what computation will be\n",
        "performed on the input `X` to obtain the final prediction. We do this by\n",
        "emulating the `forward` method of the `MyRNN` function."
      ]
    },
    {
      "cell_type": "code",
      "execution_count": null,
      "id": "425b3602",
      "metadata": {
        "colab": {
          "base_uri": "https://localhost:8080/"
        },
        "id": "425b3602",
        "outputId": "0bfb4d5b-6251-4edf-a50d-564877bb0a85"
      },
      "outputs": [
        {
          "output_type": "stream",
          "name": "stdout",
          "text": [
            "torch.Size([10, 26])\n"
          ]
        }
      ],
      "source": [
        "X, t = next(iter(train_dataloader))\n",
        "\n",
        "print(X.shape)"
      ]
    },
    {
      "cell_type": "markdown",
      "id": "da71cb88",
      "metadata": {
        "id": "da71cb88"
      },
      "source": [
        "**Graded Task**: Run the code below to check the shape of `wordemb`.\n",
        "What shape does this tensor have?  Explain what each dimension in this shape means."
      ]
    },
    {
      "cell_type": "code",
      "execution_count": null,
      "id": "c9395e23",
      "metadata": {
        "colab": {
          "base_uri": "https://localhost:8080/"
        },
        "id": "c9395e23",
        "outputId": "dd90b446-405d-4c93-820c-c82a58df0215"
      },
      "outputs": [
        {
          "output_type": "stream",
          "name": "stdout",
          "text": [
            "torch.Size([10, 26, 128])\n"
          ]
        }
      ],
      "source": [
        "wordemb = model.emb(X)\n",
        "\n",
        "print(wordemb.shape)\n",
        "\n",
        "# TODO: Include your explanation here\n",
        "# the shape of this tensor is [10, 26, 128]\n",
        "# it means the batch size is 10,\n",
        "# sequence length is 26,\n",
        "# and embedding size is 128."
      ]
    },
    {
      "cell_type": "markdown",
      "id": "7e8a3c1c",
      "metadata": {
        "id": "7e8a3c1c"
      },
      "source": [
        "**Graded Task**: Run the code below, which computes the RNN forward pass,\n",
        "with `wordemb` as input.\n",
        "What shape do the tensors `h` and `out` have?  Explain what these tensors correspond to.\n",
        "(See the RNN reference [https://pytorch.org/docs/stable/generated/torch.nn.RNN.html](https://pytorch.org/docs/stable/generated/torch.nn.RNN.html) on the PyTorch documentation page.)"
      ]
    },
    {
      "cell_type": "code",
      "execution_count": null,
      "id": "5ea34c20",
      "metadata": {
        "colab": {
          "base_uri": "https://localhost:8080/"
        },
        "id": "5ea34c20",
        "outputId": "015e778f-7413-44d6-dac0-9ae58756a291"
      },
      "outputs": [
        {
          "output_type": "stream",
          "name": "stdout",
          "text": [
            "torch.Size([10, 26, 128])\n",
            "torch.Size([4, 10, 64])\n",
            "tensor([1.0406, 0.0935, 0.1010, 0.0461, 0.4603, 0.0000, 0.0000, 0.1110, 0.0431,\n",
            "        0.2318, 0.3330, 0.2944, 0.8092, 0.0228, 0.0000, 0.0000, 0.5545, 0.3158,\n",
            "        0.0000, 0.0000, 0.4354, 0.0000, 0.2511, 0.0000, 0.3602, 0.3232, 0.7754,\n",
            "        0.3076, 0.0000, 0.0000, 0.1502, 1.1610, 0.1299, 0.3394, 0.3371, 1.2374,\n",
            "        0.0000, 0.0000, 0.0000, 0.4668, 0.0000, 0.4206, 0.0000, 0.0000, 0.9725,\n",
            "        0.0000, 0.2679, 0.0000, 0.2025, 0.0000, 0.2553, 0.0000, 0.0732, 0.0000,\n",
            "        0.9624, 0.0000, 0.0000, 0.7798, 1.7403, 0.0000, 0.0000, 0.7911, 0.4226,\n",
            "        0.0000, 0.0000, 0.4674, 0.0000, 0.0000, 0.6332, 0.0537, 0.0000, 0.4029,\n",
            "        0.0000, 0.0000, 0.5842, 0.4406, 0.0122, 0.0000, 0.0000, 0.0819, 0.3150,\n",
            "        0.0000, 0.0000, 0.0000, 0.0044, 0.0000, 0.0000, 0.8332, 0.1446, 0.0613,\n",
            "        0.8679, 0.0974, 0.0000, 0.0000, 0.1110, 0.0000, 0.0000, 0.0000, 0.3235,\n",
            "        0.0000, 0.5039, 0.4356, 0.2513, 0.0000, 0.0000, 0.0000, 0.4466, 0.0000,\n",
            "        0.7049, 0.0000, 0.0000, 0.0000, 0.0000, 0.2948, 0.2594, 0.0000, 0.0000,\n",
            "        0.1049, 0.3034, 0.0000, 0.2306, 0.0000, 0.8639, 0.0000, 0.0000, 0.0000,\n",
            "        0.0000, 0.3327], grad_fn=<SliceBackward0>)\n",
            "tensor([0.1930, 0.0000, 0.0000, 0.0000, 1.6490, 0.0000, 1.0293, 1.4472, 0.5096,\n",
            "        0.0000, 0.0000, 0.6352, 2.1297, 0.0000, 0.0000, 1.7169, 0.8404, 0.0000,\n",
            "        0.0000, 1.0453, 0.0879, 1.2089, 0.5686, 0.0000, 0.0000, 0.6358, 0.6264,\n",
            "        0.0000, 0.0000, 0.8024, 0.8470, 0.1992, 0.1503, 0.1841, 0.6135, 0.0000,\n",
            "        0.0000, 0.0000, 0.0000, 0.1898, 0.0000, 0.3857, 0.2641, 0.0000, 0.9120,\n",
            "        0.2308, 0.0000, 0.8833, 0.0000, 0.0000, 0.0000, 0.0000, 0.5692, 0.0000,\n",
            "        0.3387, 0.0824, 0.2709, 0.8288, 0.0000, 0.0000, 0.0649, 0.0000, 0.0000,\n",
            "        0.0652], grad_fn=<SliceBackward0>)\n"
          ]
        }
      ],
      "source": [
        "# If you get a problem here, rename your recurrent unit ;)\n",
        "h, out = model.rnn(wordemb)\n",
        "\n",
        "print(h.shape)\n",
        "print(out.shape)\n",
        "\n",
        "# The tensors `h` and `out` are related. To see the relation,\n",
        "# choose an index in the batch and compare the following two\n",
        "# vectors in `h` and `out`.\n",
        "index = 2 # choose an index to iterate through the batch\n",
        "print(h[index, -1, :])\n",
        "print(out[0, index, :])\n",
        "\n",
        "# TODO: Include your explanation here\n",
        "# the shape of h is [10, 26, 64]\n",
        "# the shape of out is [1, 10, 64]\n",
        "# h has batch size = 10, sequence length = 26, and hidden size = 64.\n",
        "# out has number of layer = 1 and one direction. Its batch size = 10\n",
        "# and hidden size = 64."
      ]
    },
    {
      "cell_type": "markdown",
      "id": "a22423e6",
      "metadata": {
        "id": "a22423e6"
      },
      "source": [
        "There is one more thing we need to do before training the model, which is\n",
        "to write a function to estimate the accuracy of the model. This is done for\n",
        "you below."
      ]
    },
    {
      "cell_type": "code",
      "execution_count": null,
      "id": "47dfea50",
      "metadata": {
        "colab": {
          "base_uri": "https://localhost:8080/"
        },
        "id": "47dfea50",
        "outputId": "51e7a197-e040-4c19-d317-f89b38882c8f"
      },
      "outputs": [
        {
          "output_type": "execute_result",
          "data": {
            "text/plain": [
              "0.4905094905094905"
            ]
          },
          "metadata": {},
          "execution_count": 82
        }
      ],
      "source": [
        "# if you get a problem here, check how you implemented the output of your model\n",
        "def accuracy(model, dataset, max=1000):\n",
        "    \"\"\"\n",
        "    Estimate the accuracy of `model` over the `dataset`.\n",
        "    We will take the **most probable class**\n",
        "    as the class predicted by the model.\n",
        "\n",
        "    Parameters:\n",
        "        `model`   - An object of class nn.Module\n",
        "        `dataset` - A dataset of the same type as `train_data`.\n",
        "        `max`     - The max number of samples to use to estimate\n",
        "                    model accuracy\n",
        "\n",
        "    Returns: a floating-point value between 0 and 1.\n",
        "    \"\"\"\n",
        "\n",
        "    correct, total = 0, 0\n",
        "    dataloader = DataLoader(dataset,\n",
        "                            batch_size=1,  # use batch size 1 to prevent padding\n",
        "                            collate_fn=collate_batch)\n",
        "    for i, (x, t) in enumerate(dataloader):\n",
        "        z = model(x)\n",
        "        y = torch.argmax(z, axis=1)\n",
        "        correct += int(torch.sum(t == y))\n",
        "        total   += 1\n",
        "        if i >= max:\n",
        "            break\n",
        "    return correct / total\n",
        "\n",
        "accuracy(model, train_data_indices) # should be close to half"
      ]
    },
    {
      "cell_type": "markdown",
      "id": "bab06cfd",
      "metadata": {
        "id": "bab06cfd"
      },
      "source": [
        "## Part 3. Training\n",
        "\n",
        "In this section, we will train the `MyRNN` model to classify tweets.\n",
        "As the models that we are building begin to increase in complexity, it is important\n",
        "to use good debugging techniques. In this section, we will introduce the technique of\n",
        "checking whether the model and training code is able to overfit on a small training set.\n",
        "This is a way to check for bugs in the implementation.\n",
        "\n",
        "**Task**: Complete the training code below"
      ]
    },
    {
      "cell_type": "code",
      "execution_count": null,
      "id": "64f22931",
      "metadata": {
        "id": "64f22931"
      },
      "outputs": [],
      "source": [
        "import torch.optim as optim\n",
        "import matplotlib.pyplot as plt\n",
        "\n",
        "def train_model(model,                # an instance of MLPModel\n",
        "                train_data,           # training data\n",
        "                val_data,             # validation data\n",
        "                learning_rate=0.001,\n",
        "                batch_size=100,\n",
        "                num_epochs=10,\n",
        "                plot_every=50,        # how often (in # iterations) to track metrics\n",
        "                plot=True):           # whether to plot the training curve\n",
        "    train_loader = torch.utils.data.DataLoader(train_data,\n",
        "                                               batch_size=batch_size,\n",
        "                                               collate_fn=collate_batch,\n",
        "                                               shuffle=True) # reshuffle minibatches every epoch\n",
        "    criterion = nn.CrossEntropyLoss()\n",
        "    optimizer = optim.Adam(model.parameters(), lr=learning_rate)\n",
        "\n",
        "    # these lists will be used to track the training progress\n",
        "    # and to plot the training curve\n",
        "    iters, train_loss, train_acc, val_acc = [], [], [], []\n",
        "    iter_count = 0 # count the number of iterations that has passed\n",
        "\n",
        "    try:\n",
        "        for e in range(num_epochs):\n",
        "            for i, (texts, labels) in enumerate(train_loader):\n",
        "                z = model(texts) # TODO\n",
        "\n",
        "                loss = criterion(z, labels) # TODO\n",
        "\n",
        "                loss.backward() # propagate the gradients\n",
        "                optimizer.step() # update the parameters\n",
        "                optimizer.zero_grad() # clean up accumualted gradients\n",
        "\n",
        "                iter_count += 1\n",
        "                if iter_count % plot_every == 0:\n",
        "                    iters.append(iter_count)\n",
        "                    ta = accuracy(model, train_data)\n",
        "                    va = accuracy(model, val_data)\n",
        "                    train_loss.append(float(loss))\n",
        "                    train_acc.append(ta)\n",
        "                    val_acc.append(va)\n",
        "                    print(iter_count, \"Loss:\", float(loss), \"Train Acc:\", ta, \"Val Acc:\", va)\n",
        "    finally:\n",
        "        # This try/finally block is to display the training curve\n",
        "        # even if training is interrupted\n",
        "        if plot:\n",
        "            plt.figure()\n",
        "            plt.plot(iters[:len(train_loss)], train_loss)\n",
        "            plt.title(\"Loss over iterations\")\n",
        "            plt.xlabel(\"Iterations\")\n",
        "            plt.ylabel(\"Loss\")\n",
        "\n",
        "            plt.figure()\n",
        "            plt.plot(iters[:len(train_acc)], train_acc)\n",
        "            plt.plot(iters[:len(val_acc)], val_acc)\n",
        "            plt.title(\"Accuracy over iterations\")\n",
        "            plt.xlabel(\"Iterations\")\n",
        "            plt.ylabel(\"Loss\")\n",
        "            plt.legend([\"Train\", \"Validation\"])"
      ]
    },
    {
      "cell_type": "markdown",
      "id": "9b7b8e80",
      "metadata": {
        "id": "9b7b8e80"
      },
      "source": [
        "**Graded Task**: As a way to check the model and training code,\n",
        "check if your model can obtain a 100\\% training accuracy relatively quickly\n",
        "(e.g. within less than a minute of training time), when training on only the\n",
        "first 20 element of the training data."
      ]
    },
    {
      "cell_type": "code",
      "execution_count": null,
      "id": "b364da75",
      "metadata": {
        "colab": {
          "base_uri": "https://localhost:8080/"
        },
        "id": "b364da75",
        "outputId": "1fbc27ef-0bee-45a6-d602-00015d4b01bc"
      },
      "outputs": [
        {
          "output_type": "stream",
          "name": "stdout",
          "text": [
            "10 Loss: 0.4830723702907562 Train Acc: 0.65 Val Acc: 0.3\n",
            "20 Loss: 0.27280527353286743 Train Acc: 0.95 Val Acc: 0.4\n",
            "30 Loss: 0.02235175110399723 Train Acc: 1.0 Val Acc: 0.35\n",
            "40 Loss: 0.008333005011081696 Train Acc: 1.0 Val Acc: 0.3\n",
            "50 Loss: 0.004969590809196234 Train Acc: 1.0 Val Acc: 0.45\n",
            "60 Loss: 0.004522236995398998 Train Acc: 1.0 Val Acc: 0.5\n",
            "70 Loss: 0.003174875397235155 Train Acc: 1.0 Val Acc: 0.5\n",
            "80 Loss: 0.0028540263883769512 Train Acc: 1.0 Val Acc: 0.5\n",
            "90 Loss: 0.002752964850515127 Train Acc: 1.0 Val Acc: 0.5\n",
            "100 Loss: 0.0023470863234251738 Train Acc: 1.0 Val Acc: 0.5\n"
          ]
        }
      ],
      "source": [
        "model = MyRNN(vocab_size=len(vocab),\n",
        "              emb_size=300,\n",
        "              hidden_size=64,\n",
        "              num_classes=2)\n",
        "# TODO: Include your code and output\n",
        "train_model(model, train_data_indices[:20], val_data_indices[:20] , batch_size=10,\n",
        "            num_epochs=50, plot_every=10, plot=False)"
      ]
    },
    {
      "cell_type": "markdown",
      "id": "05a55da1",
      "metadata": {
        "id": "05a55da1"
      },
      "source": [
        "**Task**: Will this model that you trained above have a high accuracy over\n",
        "the validation set? Explain why or why not."
      ]
    },
    {
      "cell_type": "code",
      "execution_count": null,
      "id": "7f2c3027",
      "metadata": {
        "id": "7f2c3027"
      },
      "outputs": [],
      "source": [
        "# TODO: Your explanation goes here\n",
        "# the validation accuracy would be considerably lower, since the training set is too small\n",
        "# and can not represent the general feature of the actual data.\n"
      ]
    },
    {
      "cell_type": "markdown",
      "id": "de1142ba",
      "metadata": {
        "id": "de1142ba"
      },
      "source": [
        "**Graded Task**: Train your model on the full data set. What validation accuracy\n",
        "can you achieve? (Our implementation achieved just shy of 80% without much tuning of HPs, can you match this?)"
      ]
    },
    {
      "cell_type": "code",
      "execution_count": null,
      "id": "eac32a01",
      "metadata": {
        "id": "eac32a01",
        "colab": {
          "base_uri": "https://localhost:8080/",
          "height": 1000
        },
        "outputId": "2988ab8c-8155-46f0-bc7f-f16b20a691d9"
      },
      "outputs": [
        {
          "output_type": "stream",
          "name": "stdout",
          "text": [
            "50 Loss: 0.6770226955413818 Train Acc: 0.5554445554445554 Val Acc: 0.5444555444555444\n",
            "100 Loss: 0.6794403195381165 Train Acc: 0.6233766233766234 Val Acc: 0.5914085914085914\n",
            "150 Loss: 0.6277244091033936 Train Acc: 0.6583416583416584 Val Acc: 0.6133866133866134\n",
            "200 Loss: 0.5922433137893677 Train Acc: 0.7212787212787213 Val Acc: 0.6673326673326674\n",
            "250 Loss: 0.6392089128494263 Train Acc: 0.7202797202797203 Val Acc: 0.6653346653346653\n",
            "300 Loss: 0.5940706729888916 Train Acc: 0.7052947052947053 Val Acc: 0.6703296703296703\n",
            "350 Loss: 0.5804022550582886 Train Acc: 0.7362637362637363 Val Acc: 0.7032967032967034\n",
            "400 Loss: 0.5411274433135986 Train Acc: 0.7672327672327672 Val Acc: 0.7392607392607392\n",
            "450 Loss: 0.4967482089996338 Train Acc: 0.7732267732267732 Val Acc: 0.7352647352647352\n",
            "500 Loss: 0.5473392009735107 Train Acc: 0.7672327672327672 Val Acc: 0.7442557442557443\n",
            "550 Loss: 0.541826605796814 Train Acc: 0.7322677322677322 Val Acc: 0.7122877122877123\n",
            "600 Loss: 0.45210760831832886 Train Acc: 0.7692307692307693 Val Acc: 0.7462537462537463\n",
            "650 Loss: 0.604642927646637 Train Acc: 0.7552447552447552 Val Acc: 0.7252747252747253\n",
            "700 Loss: 0.45236629247665405 Train Acc: 0.7652347652347652 Val Acc: 0.7402597402597403\n",
            "750 Loss: 0.5255978107452393 Train Acc: 0.7592407592407593 Val Acc: 0.7342657342657343\n",
            "800 Loss: 0.416412353515625 Train Acc: 0.7782217782217782 Val Acc: 0.7492507492507493\n",
            "850 Loss: 0.4405588209629059 Train Acc: 0.7932067932067932 Val Acc: 0.7562437562437563\n",
            "900 Loss: 0.45950454473495483 Train Acc: 0.7802197802197802 Val Acc: 0.7432567432567433\n",
            "950 Loss: 0.5219893455505371 Train Acc: 0.8151848151848152 Val Acc: 0.7732267732267732\n",
            "1000 Loss: 0.4789171516895294 Train Acc: 0.7992007992007992 Val Acc: 0.7782217782217782\n",
            "1050 Loss: 0.44719043374061584 Train Acc: 0.8111888111888111 Val Acc: 0.7772227772227772\n",
            "1100 Loss: 0.37152859568595886 Train Acc: 0.8061938061938062 Val Acc: 0.7792207792207793\n",
            "1150 Loss: 0.48301586508750916 Train Acc: 0.8191808191808192 Val Acc: 0.7802197802197802\n",
            "1200 Loss: 0.49186408519744873 Train Acc: 0.8181818181818182 Val Acc: 0.7752247752247752\n",
            "1250 Loss: 0.4590566158294678 Train Acc: 0.8171828171828172 Val Acc: 0.7792207792207793\n",
            "1300 Loss: 0.4500850737094879 Train Acc: 0.8231768231768232 Val Acc: 0.7872127872127872\n",
            "1350 Loss: 0.4795871376991272 Train Acc: 0.8101898101898102 Val Acc: 0.7542457542457542\n",
            "1400 Loss: 0.34933891892433167 Train Acc: 0.8221778221778222 Val Acc: 0.7792207792207793\n",
            "1450 Loss: 0.4748935401439667 Train Acc: 0.8201798201798202 Val Acc: 0.7812187812187812\n",
            "1500 Loss: 0.48380106687545776 Train Acc: 0.8261738261738262 Val Acc: 0.7852147852147852\n",
            "1550 Loss: 0.44460517168045044 Train Acc: 0.8251748251748252 Val Acc: 0.7652347652347652\n",
            "1600 Loss: 0.3591414988040924 Train Acc: 0.8301698301698301 Val Acc: 0.8021978021978022\n",
            "1650 Loss: 0.4273544251918793 Train Acc: 0.8321678321678322 Val Acc: 0.7832167832167832\n",
            "1700 Loss: 0.4203833043575287 Train Acc: 0.8281718281718282 Val Acc: 0.7872127872127872\n",
            "1750 Loss: 0.4833140969276428 Train Acc: 0.8451548451548452 Val Acc: 0.7942057942057942\n",
            "1800 Loss: 0.42448288202285767 Train Acc: 0.8421578421578422 Val Acc: 0.7862137862137862\n",
            "1850 Loss: 0.40294185280799866 Train Acc: 0.8271728271728271 Val Acc: 0.7812187812187812\n",
            "1900 Loss: 0.40038439631462097 Train Acc: 0.8371628371628371 Val Acc: 0.7802197802197802\n",
            "1950 Loss: 0.4371127188205719 Train Acc: 0.8341658341658341 Val Acc: 0.7642357642357642\n",
            "2000 Loss: 0.32087084650993347 Train Acc: 0.8351648351648352 Val Acc: 0.7852147852147852\n",
            "2050 Loss: 0.4875296354293823 Train Acc: 0.8431568431568431 Val Acc: 0.7792207792207793\n",
            "2100 Loss: 0.39346301555633545 Train Acc: 0.8401598401598401 Val Acc: 0.7862137862137862\n",
            "2150 Loss: 0.40603694319725037 Train Acc: 0.8421578421578422 Val Acc: 0.7882117882117882\n",
            "2200 Loss: 0.45746076107025146 Train Acc: 0.8451548451548452 Val Acc: 0.7912087912087912\n",
            "2250 Loss: 0.3052593171596527 Train Acc: 0.8521478521478522 Val Acc: 0.7952047952047953\n",
            "2300 Loss: 0.5061774253845215 Train Acc: 0.8491508491508492 Val Acc: 0.7982017982017982\n",
            "2350 Loss: 0.40480804443359375 Train Acc: 0.8471528471528471 Val Acc: 0.7952047952047953\n",
            "2400 Loss: 0.39828944206237793 Train Acc: 0.8601398601398601 Val Acc: 0.7912087912087912\n",
            "2450 Loss: 0.4356772303581238 Train Acc: 0.8511488511488512 Val Acc: 0.7822177822177823\n",
            "2500 Loss: 0.36684176325798035 Train Acc: 0.8461538461538461 Val Acc: 0.7942057942057942\n",
            "2550 Loss: 0.4075842797756195 Train Acc: 0.8471528471528471 Val Acc: 0.7942057942057942\n",
            "2600 Loss: 0.31131821870803833 Train Acc: 0.8601398601398601 Val Acc: 0.7942057942057942\n",
            "2650 Loss: 0.34048718214035034 Train Acc: 0.8591408591408591 Val Acc: 0.7982017982017982\n",
            "2700 Loss: 0.3697888255119324 Train Acc: 0.8611388611388612 Val Acc: 0.8001998001998002\n",
            "2750 Loss: 0.34583747386932373 Train Acc: 0.8571428571428571 Val Acc: 0.8001998001998002\n",
            "2800 Loss: 0.2942500412464142 Train Acc: 0.8631368631368631 Val Acc: 0.8041958041958042\n",
            "2850 Loss: 0.41441604495048523 Train Acc: 0.7682317682317682 Val Acc: 0.7402597402597403\n",
            "2900 Loss: 0.3132304251194 Train Acc: 0.8441558441558441 Val Acc: 0.7862137862137862\n",
            "2950 Loss: 0.3667981028556824 Train Acc: 0.8551448551448552 Val Acc: 0.7932067932067932\n",
            "3000 Loss: 0.4847959876060486 Train Acc: 0.8511488511488512 Val Acc: 0.7722277722277723\n",
            "3050 Loss: 0.3693719208240509 Train Acc: 0.8511488511488512 Val Acc: 0.7872127872127872\n",
            "3100 Loss: 0.34977662563323975 Train Acc: 0.8541458541458542 Val Acc: 0.7942057942057942\n",
            "3150 Loss: 0.34461385011672974 Train Acc: 0.8351648351648352 Val Acc: 0.7682317682317682\n",
            "3200 Loss: 0.4354345202445984 Train Acc: 0.8511488511488512 Val Acc: 0.7782217782217782\n",
            "3250 Loss: 0.43224895000457764 Train Acc: 0.8521478521478522 Val Acc: 0.7692307692307693\n",
            "3300 Loss: 0.30866456031799316 Train Acc: 0.8601398601398601 Val Acc: 0.7942057942057942\n",
            "3350 Loss: 0.2825896143913269 Train Acc: 0.8631368631368631 Val Acc: 0.7882117882117882\n",
            "3400 Loss: 0.3683420419692993 Train Acc: 0.8571428571428571 Val Acc: 0.7812187812187812\n",
            "3450 Loss: 0.3691323399543762 Train Acc: 0.8731268731268731 Val Acc: 0.8011988011988012\n",
            "3500 Loss: 0.450443834066391 Train Acc: 0.8671328671328671 Val Acc: 0.7882117882117882\n",
            "3550 Loss: 0.3814738988876343 Train Acc: 0.8721278721278721 Val Acc: 0.8031968031968032\n",
            "3600 Loss: 0.37043288350105286 Train Acc: 0.8741258741258742 Val Acc: 0.7822177822177823\n",
            "3650 Loss: 0.4098702371120453 Train Acc: 0.8771228771228772 Val Acc: 0.7872127872127872\n",
            "3700 Loss: 0.34067192673683167 Train Acc: 0.8701298701298701 Val Acc: 0.7872127872127872\n",
            "3750 Loss: 0.3830639123916626 Train Acc: 0.8751248751248751 Val Acc: 0.7982017982017982\n",
            "3800 Loss: 0.3158589005470276 Train Acc: 0.8771228771228772 Val Acc: 0.8041958041958042\n",
            "3850 Loss: 0.33328777551651 Train Acc: 0.8351648351648352 Val Acc: 0.7572427572427572\n",
            "3900 Loss: 0.28044283390045166 Train Acc: 0.8881118881118881 Val Acc: 0.8041958041958042\n",
            "3950 Loss: 0.3275202512741089 Train Acc: 0.8761238761238761 Val Acc: 0.7912087912087912\n",
            "4000 Loss: 0.4027669131755829 Train Acc: 0.8801198801198801 Val Acc: 0.7962037962037962\n",
            "4050 Loss: 0.2853672504425049 Train Acc: 0.8851148851148851 Val Acc: 0.7972027972027972\n",
            "4100 Loss: 0.38736507296562195 Train Acc: 0.8861138861138861 Val Acc: 0.7982017982017982\n",
            "4150 Loss: 0.2276771366596222 Train Acc: 0.8721278721278721 Val Acc: 0.7872127872127872\n",
            "4200 Loss: 0.31333866715431213 Train Acc: 0.8651348651348651 Val Acc: 0.7802197802197802\n",
            "4250 Loss: 0.30631357431411743 Train Acc: 0.8671328671328671 Val Acc: 0.7812187812187812\n",
            "4300 Loss: 0.29404813051223755 Train Acc: 0.8631368631368631 Val Acc: 0.8021978021978022\n",
            "4350 Loss: 0.35960397124290466 Train Acc: 0.8841158841158842 Val Acc: 0.8061938061938062\n",
            "4400 Loss: 0.2438252866268158 Train Acc: 0.8621378621378621 Val Acc: 0.7772227772227772\n",
            "4450 Loss: 0.2861875295639038 Train Acc: 0.8841158841158842 Val Acc: 0.7922077922077922\n",
            "4500 Loss: 0.4059494435787201 Train Acc: 0.8831168831168831 Val Acc: 0.8011988011988012\n",
            "4550 Loss: 0.2811571955680847 Train Acc: 0.8911088911088911 Val Acc: 0.8031968031968032\n",
            "4600 Loss: 0.24301768839359283 Train Acc: 0.8861138861138861 Val Acc: 0.7892107892107892\n",
            "4650 Loss: 0.28138992190361023 Train Acc: 0.8831168831168831 Val Acc: 0.7852147852147852\n",
            "4700 Loss: 0.31097960472106934 Train Acc: 0.8921078921078921 Val Acc: 0.8011988011988012\n",
            "4750 Loss: 0.23197168111801147 Train Acc: 0.8791208791208791 Val Acc: 0.7852147852147852\n",
            "4800 Loss: 0.3745233118534088 Train Acc: 0.8791208791208791 Val Acc: 0.7942057942057942\n",
            "4850 Loss: 0.29404979944229126 Train Acc: 0.8761238761238761 Val Acc: 0.7842157842157842\n",
            "4900 Loss: 0.24843372404575348 Train Acc: 0.8601398601398601 Val Acc: 0.7802197802197802\n",
            "4950 Loss: 0.33241021633148193 Train Acc: 0.8901098901098901 Val Acc: 0.7882117882117882\n",
            "5000 Loss: 0.2971858084201813 Train Acc: 0.8941058941058941 Val Acc: 0.7932067932067932\n"
          ]
        },
        {
          "output_type": "display_data",
          "data": {
            "text/plain": [
              "<Figure size 640x480 with 1 Axes>"
            ],
            "image/png": "[encoded data removed]"
          },
          "metadata": {}
        },
        {
          "output_type": "display_data",
          "data": {
            "text/plain": [
              "<Figure size 640x480 with 1 Axes>"
            ],
            "image/png": "[encoded data removed]"
          },
          "metadata": {}
        }
      ],
      "source": [
        "model = MyRNN(vocab_size=len(vocab),\n",
        "              emb_size=300,\n",
        "              hidden_size=64,\n",
        "              num_classes=2)\n",
        "# TODO: Include your code and output\n",
        "train_model(model, train_data_indices, val_data_indices, plot=True)"
      ]
    },
    {
      "cell_type": "markdown",
      "id": "7ab08ab7",
      "metadata": {
        "id": "7ab08ab7"
      },
      "source": [
        "**Graded task:** There are several different variants of RNN architectures. Chose a *different one* from the one you used previously and reimplement the model and the training loop below. It is OK to copy/paste the majority of the code. Make sure you have train and eval loss as before. Compare the final validation accuracy and comment on whether you obtained the expected results. Why/why not?"
      ]
    },
    {
      "cell_type": "code",
      "execution_count": null,
      "id": "5df129f2",
      "metadata": {
        "id": "5df129f2"
      },
      "outputs": [],
      "source": [
        "# TODO: Your code here\n",
        "# choosing LSTM\n",
        "import torch.nn as nn\n",
        "\n",
        "class MyLSTMRNN(nn.Module):\n",
        "    def __init__(self, vocab_size, emb_size, hidden_size, num_classes):\n",
        "        super(MyLSTMRNN, self).__init__()\n",
        "        self.vocab_size = vocab_size\n",
        "        self.emb_size = emb_size\n",
        "        self.hidden_size = hidden_size\n",
        "        self.num_classes = num_classes\n",
        "\n",
        "        self.emb = nn.Embedding(vocab_size, emb_size)\n",
        "        self.lstm = nn.LSTM(emb_size, hidden_size, batch_first=True)\n",
        "        self.fc = nn.Linear(hidden_size, num_classes)\n",
        "\n",
        "    def forward(self, X):\n",
        "        x_emb = self.emb(X)\n",
        "        lstm_out, (hidden, _) = self.lstm(x_emb)\n",
        "\n",
        "        hn = hidden[-1,:,:]\n",
        "\n",
        "        out = self.fc(hn)\n",
        "        return out"
      ]
    },
    {
      "cell_type": "code",
      "source": [
        "import torch\n",
        "import torch.optim as optim\n",
        "from torch.utils.data import DataLoader\n",
        "from torch.nn.utils.rnn import pad_sequence\n",
        "\n",
        "def train_LSTM_model(model, train_data, val_data, learning_rate=0.001, batch_size=100, num_epochs=10, plot_every=100, plot=True):\n",
        "    train_loader = DataLoader(train_data, batch_size=batch_size, collate_fn=collate_batch, shuffle=True)\n",
        "    val_loader = DataLoader(val_data, batch_size=batch_size, collate_fn=collate_batch)\n",
        "\n",
        "    criterion = nn.CrossEntropyLoss()\n",
        "    optimizer = optim.Adam(model.parameters(), lr=learning_rate)\n",
        "    iters, train_loss, train_acc, val_acc = [], [], [], []\n",
        "    iter_count = 0\n",
        "    try:\n",
        "        for epoch in range(num_epochs):\n",
        "          for texts, labels in train_loader:\n",
        "              optimizer.zero_grad()\n",
        "              outputs = model(texts)\n",
        "              loss = criterion(outputs, labels)\n",
        "              loss.backward()\n",
        "              optimizer.step()\n",
        "              iter_count += 1\n",
        "              if iter_count % plot_every == 0:\n",
        "                  iters.append(iter_count)\n",
        "                  ta = accuracy(model, train_data)\n",
        "                  va = accuracy(model, val_data)\n",
        "                  train_loss.append(float(loss))\n",
        "                  train_acc.append(ta)\n",
        "                  val_acc.append(va)\n",
        "                  print(iter_count, \"Loss:\", float(loss), \"Train Acc:\", ta, \"Val Acc:\", va)\n",
        "    finally:\n",
        "        # This try/finally block is to display the training curve\n",
        "        # even if training is interrupted\n",
        "        if plot:\n",
        "            plt.figure()\n",
        "            plt.plot(iters[:len(train_loss)], train_loss)\n",
        "            plt.title(\"Loss over iterations\")\n",
        "            plt.xlabel(\"Iterations\")\n",
        "            plt.ylabel(\"Loss\")\n",
        "\n",
        "            plt.figure()\n",
        "            plt.plot(iters[:len(train_acc)], train_acc)\n",
        "            plt.plot(iters[:len(val_acc)], val_acc)\n",
        "            plt.title(\"Accuracy over iterations\")\n",
        "            plt.xlabel(\"Iterations\")\n",
        "            plt.ylabel(\"Loss\")\n",
        "            plt.legend([\"Train\", \"Validation\"])"
      ],
      "metadata": {
        "id": "iebB4l8QszSX"
      },
      "id": "iebB4l8QszSX",
      "execution_count": null,
      "outputs": []
    },
    {
      "cell_type": "code",
      "source": [
        "vocab_size = len(vocab)\n",
        "emb_size = 128\n",
        "hidden_size = 64\n",
        "num_classes = 2\n",
        "\n",
        "model = MyLSTMRNN(vocab_size, emb_size, hidden_size, num_classes)\n",
        "train_LSTM_model(model, train_data_indices, val_data_indices)"
      ],
      "metadata": {
        "colab": {
          "base_uri": "https://localhost:8080/",
          "height": 1000
        },
        "id": "hACuam6Wt_9b",
        "outputId": "051dc8fd-7d51-40e4-9056-48b8648a5bab"
      },
      "id": "hACuam6Wt_9b",
      "execution_count": null,
      "outputs": [
        {
          "output_type": "stream",
          "name": "stdout",
          "text": [
            "100 Loss: 0.6833204030990601 Train Acc: 0.4995004995004995 Val Acc: 0.5194805194805194\n",
            "200 Loss: 0.6894438862800598 Train Acc: 0.5464535464535465 Val Acc: 0.5534465534465535\n",
            "300 Loss: 0.536547839641571 Train Acc: 0.6793206793206793 Val Acc: 0.6743256743256744\n",
            "400 Loss: 0.6026241779327393 Train Acc: 0.7312687312687313 Val Acc: 0.7282717282717283\n",
            "500 Loss: 0.4962598383426666 Train Acc: 0.7902097902097902 Val Acc: 0.7542457542457542\n",
            "600 Loss: 0.5195988416671753 Train Acc: 0.7922077922077922 Val Acc: 0.7452547452547452\n",
            "700 Loss: 0.6188079714775085 Train Acc: 0.8021978021978022 Val Acc: 0.7532467532467533\n",
            "800 Loss: 0.4811391532421112 Train Acc: 0.7952047952047953 Val Acc: 0.7732267732267732\n",
            "900 Loss: 0.4388411045074463 Train Acc: 0.8181818181818182 Val Acc: 0.7752247752247752\n",
            "1000 Loss: 0.4680716395378113 Train Acc: 0.8141858141858141 Val Acc: 0.7762237762237763\n",
            "1100 Loss: 0.5616243481636047 Train Acc: 0.8241758241758241 Val Acc: 0.7632367632367633\n",
            "1200 Loss: 0.3986513912677765 Train Acc: 0.8421578421578422 Val Acc: 0.7862137862137862\n",
            "1300 Loss: 0.43937286734580994 Train Acc: 0.8271728271728271 Val Acc: 0.7872127872127872\n",
            "1400 Loss: 0.45548561215400696 Train Acc: 0.8541458541458542 Val Acc: 0.7852147852147852\n",
            "1500 Loss: 0.43585118651390076 Train Acc: 0.8471528471528471 Val Acc: 0.7892107892107892\n",
            "1600 Loss: 0.3316640853881836 Train Acc: 0.8501498501498501 Val Acc: 0.7892107892107892\n",
            "1700 Loss: 0.5216033458709717 Train Acc: 0.8431568431568431 Val Acc: 0.7892107892107892\n",
            "1800 Loss: 0.3780977129936218 Train Acc: 0.8521478521478522 Val Acc: 0.7922077922077922\n",
            "1900 Loss: 0.2619825303554535 Train Acc: 0.8601398601398601 Val Acc: 0.7932067932067932\n",
            "2000 Loss: 0.2551169991493225 Train Acc: 0.8541458541458542 Val Acc: 0.7962037962037962\n",
            "2100 Loss: 0.45135241746902466 Train Acc: 0.8581418581418582 Val Acc: 0.7902097902097902\n",
            "2200 Loss: 0.3245243728160858 Train Acc: 0.8611388611388612 Val Acc: 0.7962037962037962\n",
            "2300 Loss: 0.39799439907073975 Train Acc: 0.8761238761238761 Val Acc: 0.7832167832167832\n",
            "2400 Loss: 0.4258800148963928 Train Acc: 0.8681318681318682 Val Acc: 0.7972027972027972\n",
            "2500 Loss: 0.4532749652862549 Train Acc: 0.8801198801198801 Val Acc: 0.8001998001998002\n",
            "2600 Loss: 0.4381940960884094 Train Acc: 0.8781218781218781 Val Acc: 0.7722277722277723\n",
            "2700 Loss: 0.28759336471557617 Train Acc: 0.8871128871128872 Val Acc: 0.7932067932067932\n",
            "2800 Loss: 0.2424909621477127 Train Acc: 0.8871128871128872 Val Acc: 0.7732267732267732\n",
            "2900 Loss: 0.48758819699287415 Train Acc: 0.8951048951048951 Val Acc: 0.7952047952047953\n",
            "3000 Loss: 0.4104021489620209 Train Acc: 0.8991008991008991 Val Acc: 0.7902097902097902\n",
            "3100 Loss: 0.36526089906692505 Train Acc: 0.9050949050949051 Val Acc: 0.7842157842157842\n",
            "3200 Loss: 0.24916885793209076 Train Acc: 0.9020979020979021 Val Acc: 0.7892107892107892\n",
            "3300 Loss: 0.2084740400314331 Train Acc: 0.9110889110889111 Val Acc: 0.7922077922077922\n",
            "3400 Loss: 0.26664382219314575 Train Acc: 0.9140859140859141 Val Acc: 0.7882117882117882\n",
            "3500 Loss: 0.3676968812942505 Train Acc: 0.9100899100899101 Val Acc: 0.7912087912087912\n",
            "3600 Loss: 0.2554711103439331 Train Acc: 0.926073926073926 Val Acc: 0.7752247752247752\n",
            "3700 Loss: 0.2578044831752777 Train Acc: 0.9250749250749251 Val Acc: 0.7782217782217782\n",
            "3800 Loss: 0.24078169465065002 Train Acc: 0.9210789210789211 Val Acc: 0.7832167832167832\n",
            "3900 Loss: 0.32876718044281006 Train Acc: 0.929070929070929 Val Acc: 0.7762237762237763\n",
            "4000 Loss: 0.30257925391197205 Train Acc: 0.9340659340659341 Val Acc: 0.7892107892107892\n",
            "4100 Loss: 0.16917365789413452 Train Acc: 0.926073926073926 Val Acc: 0.7932067932067932\n",
            "4200 Loss: 0.3266200125217438 Train Acc: 0.939060939060939 Val Acc: 0.7822177822177823\n",
            "4300 Loss: 0.2193867564201355 Train Acc: 0.939060939060939 Val Acc: 0.7802197802197802\n",
            "4400 Loss: 0.14890362322330475 Train Acc: 0.9340659340659341 Val Acc: 0.7792207792207793\n",
            "4500 Loss: 0.1961953192949295 Train Acc: 0.9410589410589411 Val Acc: 0.7772227772227772\n",
            "4600 Loss: 0.20210275053977966 Train Acc: 0.938061938061938 Val Acc: 0.7812187812187812\n",
            "4700 Loss: 0.2670963406562805 Train Acc: 0.942057942057942 Val Acc: 0.7782217782217782\n",
            "4800 Loss: 0.16587695479393005 Train Acc: 0.9330669330669331 Val Acc: 0.7922077922077922\n",
            "4900 Loss: 0.08258567750453949 Train Acc: 0.949050949050949 Val Acc: 0.7862137862137862\n",
            "5000 Loss: 0.2001388520002365 Train Acc: 0.955044955044955 Val Acc: 0.7882117882117882\n"
          ]
        },
        {
          "output_type": "display_data",
          "data": {
            "text/plain": [
              "<Figure size 640x480 with 1 Axes>"
            ],
            "image/png": "[encoded data removed]"
          },
          "metadata": {}
        },
        {
          "output_type": "display_data",
          "data": {
            "text/plain": [
              "<Figure size 640x480 with 1 Axes>"
            ],
            "image/png": "[encoded data removed]"
          },
          "metadata": {}
        }
      ]
    },
    {
      "cell_type": "markdown",
      "source": [
        "We could see that both the training and validation accuracy of LSTM is higher."
      ],
      "metadata": {
        "id": "Yc-ZgMHszKN7"
      },
      "id": "Yc-ZgMHszKN7"
    },
    {
      "cell_type": "markdown",
      "id": "cfc9c589",
      "metadata": {
        "id": "cfc9c589"
      },
      "source": [
        "## Part 4. Pretrained Embeddings\n",
        "\n",
        "As we saw in the previous lab on images, **transfer learning** is a useful technique\n",
        "in practical machine learning, especially in low-data settings:\n",
        "instead of training an entire neural network from scratch, we use (part of) a\n",
        "model that is pretrained on large amounts of similar data. We use the intermediate\n",
        "state of this pretrained model as features to our model---i.e. we use the pretrained\n",
        "models to compute *features*.\n",
        "\n",
        "Just like with images, using a pretrained model is an important strategy for working\n",
        "with text. Large language models is an excellent demonstration of how generalizable\n",
        "pretrained features can be.\n",
        "\n",
        "In this part of the lab, we will use a slightly older idea of using pretrained *word embeddings*.\n",
        "In particular, instead of training our own `nn.Embedding` layer, we will use\n",
        "GloVe embeddings (2014) [https://nlp.stanford.edu/projects/glove/](https://nlp.stanford.edu/projects/glove/)\n",
        "trained on a large data set containing all of Wikipedia and other webpages.\n",
        "\n",
        "Nowadays, large language model (LLMs), including those with APIs provided by various organizations,\n",
        "can also be used to map words/sentences into embeddings.\n",
        "However, the basic idea of using pretrained models in low-data settings remains similar.\n",
        "We will also identify some bias issues with pretrained word embeddings.\n",
        "There is evidence that these types of bias issues\n",
        "continues to persist in LLMs as well."
      ]
    },
    {
      "cell_type": "code",
      "execution_count": null,
      "id": "f408fdf8",
      "metadata": {
        "id": "f408fdf8",
        "colab": {
          "base_uri": "https://localhost:8080/"
        },
        "outputId": "32dfde9a-0a69-4a07-bd1b-f5c8a669ef95"
      },
      "outputs": [
        {
          "output_type": "stream",
          "name": "stderr",
          "text": [
            ".vector_cache/glove.6B.zip: 862MB [02:39, 5.40MB/s]                           \n",
            "100%|█████████▉| 399999/400000 [00:59<00:00, 6696.65it/s]\n"
          ]
        }
      ],
      "source": [
        "from torchtext.vocab import GloVe\n",
        "\n",
        "glove = torchtext.vocab.GloVe(name=\"6B\", dim=300)"
      ]
    },
    {
      "cell_type": "markdown",
      "id": "949bd18d",
      "metadata": {
        "id": "949bd18d"
      },
      "source": [
        "**Task**: Run the below code to print the GloVe word embedding for the word \"cat\"."
      ]
    },
    {
      "cell_type": "code",
      "execution_count": null,
      "id": "2741ce95",
      "metadata": {
        "id": "2741ce95",
        "colab": {
          "base_uri": "https://localhost:8080/"
        },
        "outputId": "17a3f78a-5442-4312-8735-dfb9a0ffda5f"
      },
      "outputs": [
        {
          "output_type": "stream",
          "name": "stdout",
          "text": [
            "tensor([-0.2935,  0.3325, -0.0474, -0.1225,  0.0720, -0.2341, -0.0624, -0.0037,\n",
            "        -0.3946, -0.6941,  0.3673, -0.1214, -0.0445, -0.1527,  0.3486,  0.2293,\n",
            "         0.5436,  0.2521,  0.0980, -0.0873,  0.8706, -0.1221, -0.0798,  0.2871,\n",
            "        -0.6856, -0.2727,  0.2206, -0.7575,  0.5629,  0.0914, -0.7100, -0.3142,\n",
            "        -0.5683, -0.2668, -0.6010,  0.2696, -0.1799,  0.1070, -0.5786,  0.3816,\n",
            "        -0.6713,  0.1093,  0.0794,  0.0224, -0.0811,  0.0112,  0.6709, -0.1909,\n",
            "        -0.3368, -0.4847, -0.3541, -0.1521,  0.4450,  0.4638,  0.3841,  0.0451,\n",
            "        -0.5908,  0.2176,  0.3858, -0.4457,  0.0093,  0.4420,  0.0971,  0.3801,\n",
            "        -0.1188, -0.4272, -0.3101, -0.0251,  0.1269, -0.1347,  0.1198,  0.7625,\n",
            "         0.2524, -0.2693,  0.0686, -0.1007,  0.0111, -0.1853,  0.4498, -0.5751,\n",
            "         0.1228, -0.0649,  0.0445, -0.0210, -0.0698, -0.4733, -0.4307,  0.3916,\n",
            "        -0.0478, -0.9366, -0.5513, -0.1422, -0.1583,  0.1562,  0.0705,  0.1989,\n",
            "         0.1894, -0.1934, -0.4659, -0.0288,  0.0057, -0.0054,  0.4314,  0.1226,\n",
            "        -0.2611,  0.0485,  0.3224, -0.3106, -0.1056,  0.9795,  0.0696, -0.0232,\n",
            "        -0.8629,  0.4827,  0.2365, -0.0035, -0.1893,  0.1859,  0.0232, -0.3064,\n",
            "        -0.3572,  0.1961, -0.1584, -0.0059,  0.3525,  0.0361, -0.5393,  0.4943,\n",
            "         0.4533, -0.1848,  0.0406, -0.0945, -0.0712,  0.7401, -0.1147, -0.2692,\n",
            "         0.0898, -0.2521, -0.2147, -0.3885,  0.3251,  0.2577, -0.5176, -0.3846,\n",
            "         0.0283, -0.2123, -0.2731,  0.6918, -0.3768,  0.1424, -0.2493,  0.4031,\n",
            "        -0.0529,  0.0768,  0.2135,  0.1092,  0.0497,  0.0209,  0.1195,  0.2865,\n",
            "         0.8779,  0.0858,  0.3198,  0.5186, -0.2263,  0.1240,  0.4881,  0.2211,\n",
            "        -0.5202,  0.0025, -0.1330, -0.0526,  0.3274,  0.6499,  0.0724, -0.5274,\n",
            "        -0.2091, -0.2790, -0.1083, -0.1010,  0.1530, -0.3668,  0.0824,  0.1739,\n",
            "        -0.2810, -0.0691,  0.7895,  0.0606,  0.3869, -0.1649, -0.2180,  0.3329,\n",
            "        -0.4457, -0.4989, -0.3444, -0.0356, -0.2424, -0.4747, -0.1725,  0.0713,\n",
            "         1.4091,  0.4617,  0.4655, -0.3098,  0.3720,  0.4790, -0.2887, -0.6551,\n",
            "        -0.1363, -0.1429, -0.0484, -0.1279,  0.1894, -0.0371,  0.5947, -0.0052,\n",
            "        -0.0086, -0.3331,  0.2880, -0.0590, -0.6727,  0.1554,  0.0742, -0.3644,\n",
            "        -0.0213, -0.0653,  0.1383,  0.0084, -0.0411,  0.2940, -0.1034, -0.0524,\n",
            "        -0.6308,  0.1631,  0.0528, -0.0218, -0.2812, -0.0784, -0.3812,  0.0781,\n",
            "         0.3841, -0.3463, -0.4322,  0.0917, -0.6787, -0.0411, -0.5398,  0.1068,\n",
            "         0.0334,  0.8140, -0.1945,  0.0262, -0.1421,  0.2954,  0.6274,  0.2650,\n",
            "         0.6191, -0.0411,  0.1230,  0.3158,  0.1070,  0.0237, -0.4135,  0.0349,\n",
            "         0.2136,  0.0458,  0.0534, -0.3642,  0.1971,  0.5092, -0.1949, -0.1879,\n",
            "        -0.2445, -0.6340, -0.2313, -0.1882, -1.0601,  0.4779, -1.0102,  0.2460,\n",
            "        -0.4876,  0.7915, -0.1105, -0.2176, -0.6178,  0.2781, -0.0982, -0.0632,\n",
            "         0.0661, -0.6931, -0.2593,  0.4459, -0.6420, -0.3308, -0.3015, -0.5636,\n",
            "         0.6050, -0.0967,  0.4444,  0.2201])\n"
          ]
        }
      ],
      "source": [
        "print(glove['cat'])"
      ]
    },
    {
      "cell_type": "markdown",
      "id": "5d4aadf1",
      "metadata": {
        "id": "5d4aadf1"
      },
      "source": [
        "Unfortunately, it is not straightforward to add the `<pad>`, `<unk>`, `<bos>` and `<eos>`\n",
        "tokens. So we will do without them.\n",
        "\n",
        "**Task**: Run the below code to look up GloVe word indices for the training, validation, and\n",
        "test sets."
      ]
    },
    {
      "cell_type": "code",
      "execution_count": null,
      "id": "e2908bdb",
      "metadata": {
        "id": "e2908bdb"
      },
      "outputs": [],
      "source": [
        "def convert_indices_glove(data, default=len(glove)-1):\n",
        "    result = []\n",
        "    for text, label in data:\n",
        "        words = tokenizer(text) # for simplicity, we wont use <bos> and <eos>\n",
        "        indices = []\n",
        "        for w in words:\n",
        "            if w in glove.stoi:\n",
        "                indices.append(glove.stoi[w])\n",
        "            else:\n",
        "                # this is a bit of a hack, but we will repurpose *last* word\n",
        "                # (least common word) appearing in the GloVe vocabluary as our\n",
        "                # '<pad>' token\n",
        "                indices.append(default)\n",
        "        result.append((indices, label),)\n",
        "    return result\n",
        "\n",
        "train_data_glove = convert_indices_glove(train_data)\n",
        "val_data_glove = convert_indices_glove(val_data)\n",
        "test_data_glove = convert_indices_glove(test_data)"
      ]
    },
    {
      "cell_type": "markdown",
      "id": "b66e6b73",
      "metadata": {
        "id": "b66e6b73"
      },
      "source": [
        "**Graded task**: Now, we will modify the `MyRNN` to use the pretrained GloVe vectors. Make sure to not update the glove embeddings. You can reuse code from above."
      ]
    },
    {
      "cell_type": "code",
      "execution_count": null,
      "id": "658e9151",
      "metadata": {
        "id": "658e9151"
      },
      "outputs": [],
      "source": [
        "class MyGloveRNN(nn.Module):\n",
        "    def __init__(self, hidden_size, num_classes):\n",
        "        super(MyGloveRNN, self).__init__()\n",
        "        self.vocab_size, self.emb_size = glove.vectors.shape\n",
        "        self.hidden_size = hidden_size\n",
        "        self.num_classes = num_classes\n",
        "        # TODO: Your code here\n",
        "        self.emb = nn.Embedding.from_pretrained(glove.vectors, freeze=True)\n",
        "        self.rnn = nn.RNN(self.emb_size, self.hidden_size, batch_first=True,\n",
        "                          nonlinearity='relu', num_layers=2, bidirectional=True)\n",
        "        self.fc = nn.Linear(2 * self.hidden_size, num_classes)\n",
        "        self.layer_norm = nn.LayerNorm(2 * hidden_size)\n",
        "\n",
        "    def forward(self, X):\n",
        "        # TODO: Your code here\n",
        "        x_emb = self.emb(X)\n",
        "        rnn_out, hn = self.rnn(x_emb)\n",
        "        hidden = torch.cat((hn[-2,:,:], hn[-1,:,:]), dim=1)\n",
        "        norm_out = self.layer_norm(hidden)  # Layer normalization\n",
        "        out = self.fc(norm_out)\n",
        "        return out\n",
        "\n",
        "    def parameters(self):\n",
        "        # do not return the parameters of self.emb\n",
        "        # TODO: Your code here\n",
        "        for name, param in self.named_parameters():\n",
        "            if name != 'emb.weight':\n",
        "                yield param\n",
        "\n",
        "model = MyGloveRNN(64, 2)"
      ]
    },
    {
      "cell_type": "markdown",
      "id": "3d46af42",
      "metadata": {
        "id": "3d46af42"
      },
      "source": [
        "**Task** Train this model. Use comparable hyperparameters so that you can compare\n",
        "your result against `MyRNN`."
      ]
    },
    {
      "cell_type": "code",
      "execution_count": null,
      "id": "e5d00eea",
      "metadata": {
        "id": "e5d00eea",
        "colab": {
          "base_uri": "https://localhost:8080/"
        },
        "outputId": "5af32fe4-d359-4c48-8c92-319cc244563e"
      },
      "outputs": [
        {
          "output_type": "stream",
          "name": "stdout",
          "text": [
            "50 Loss: 0.6633110642433167 Train Acc: 0.6053946053946054 Val Acc: 0.5764235764235764\n",
            "100 Loss: 0.646317720413208 Train Acc: 0.6123876123876124 Val Acc: 0.6253746253746254\n",
            "150 Loss: 0.6213607788085938 Train Acc: 0.6683316683316683 Val Acc: 0.6763236763236763\n",
            "200 Loss: 0.5789912939071655 Train Acc: 0.7172827172827173 Val Acc: 0.7132867132867133\n",
            "250 Loss: 0.6955294013023376 Train Acc: 0.7292707292707292 Val Acc: 0.7492507492507493\n",
            "300 Loss: 0.6528284549713135 Train Acc: 0.6863136863136863 Val Acc: 0.6793206793206793\n",
            "350 Loss: 0.6204338669776917 Train Acc: 0.7482517482517482 Val Acc: 0.7532467532467533\n",
            "400 Loss: 0.5181957483291626 Train Acc: 0.7382617382617382 Val Acc: 0.7422577422577422\n",
            "450 Loss: 0.4484299421310425 Train Acc: 0.7502497502497503 Val Acc: 0.7412587412587412\n",
            "500 Loss: 0.577133059501648 Train Acc: 0.7582417582417582 Val Acc: 0.7542457542457542\n",
            "550 Loss: 0.3348675072193146 Train Acc: 0.7672327672327672 Val Acc: 0.7772227772227772\n",
            "600 Loss: 0.46435946226119995 Train Acc: 0.7642357642357642 Val Acc: 0.7572427572427572\n",
            "650 Loss: 0.5231784582138062 Train Acc: 0.7632367632367633 Val Acc: 0.7542457542457542\n",
            "700 Loss: 0.5197892785072327 Train Acc: 0.7832167832167832 Val Acc: 0.7832167832167832\n",
            "750 Loss: 0.4020349979400635 Train Acc: 0.7662337662337663 Val Acc: 0.7612387612387612\n",
            "800 Loss: 0.4603654742240906 Train Acc: 0.7712287712287712 Val Acc: 0.7662337662337663\n",
            "850 Loss: 0.5306339263916016 Train Acc: 0.7552447552447552 Val Acc: 0.7412587412587412\n",
            "900 Loss: 0.4620969295501709 Train Acc: 0.7592407592407593 Val Acc: 0.7592407592407593\n",
            "950 Loss: 0.5027483105659485 Train Acc: 0.7902097902097902 Val Acc: 0.7812187812187812\n",
            "1000 Loss: 0.5123385787010193 Train Acc: 0.7792207792207793 Val Acc: 0.7592407592407593\n",
            "1050 Loss: 0.374775767326355 Train Acc: 0.7882117882117882 Val Acc: 0.7792207792207793\n",
            "1100 Loss: 0.5733779072761536 Train Acc: 0.7692307692307693 Val Acc: 0.7662337662337663\n",
            "1150 Loss: 0.5805500745773315 Train Acc: 0.7142857142857143 Val Acc: 0.7212787212787213\n",
            "1200 Loss: 0.44790181517601013 Train Acc: 0.7852147852147852 Val Acc: 0.7682317682317682\n",
            "1250 Loss: 0.49350225925445557 Train Acc: 0.7712287712287712 Val Acc: 0.7642357642357642\n",
            "1300 Loss: 0.42303094267845154 Train Acc: 0.7992007992007992 Val Acc: 0.7752247752247752\n",
            "1350 Loss: 0.3961700201034546 Train Acc: 0.7982017982017982 Val Acc: 0.7932067932067932\n",
            "1400 Loss: 0.4128776490688324 Train Acc: 0.7432567432567433 Val Acc: 0.7242757242757243\n",
            "1450 Loss: 0.4117339253425598 Train Acc: 0.8111888111888111 Val Acc: 0.7882117882117882\n",
            "1500 Loss: 0.5385558605194092 Train Acc: 0.8101898101898102 Val Acc: 0.7882117882117882\n",
            "1550 Loss: 0.4751776158809662 Train Acc: 0.7842157842157842 Val Acc: 0.7762237762237763\n",
            "1600 Loss: 0.4482909142971039 Train Acc: 0.7972027972027972 Val Acc: 0.7932067932067932\n",
            "1650 Loss: 0.4606139063835144 Train Acc: 0.7492507492507493 Val Acc: 0.7482517482517482\n",
            "1700 Loss: 0.4172546863555908 Train Acc: 0.8081918081918081 Val Acc: 0.7962037962037962\n",
            "1750 Loss: 0.4313366711139679 Train Acc: 0.7442557442557443 Val Acc: 0.7452547452547452\n",
            "1800 Loss: 0.47762274742126465 Train Acc: 0.8061938061938062 Val Acc: 0.7772227772227772\n",
            "1850 Loss: 0.4707452356815338 Train Acc: 0.7832167832167832 Val Acc: 0.7682317682317682\n",
            "1900 Loss: 0.5572494268417358 Train Acc: 0.8011988011988012 Val Acc: 0.7872127872127872\n",
            "1950 Loss: 0.34997546672821045 Train Acc: 0.8031968031968032 Val Acc: 0.7882117882117882\n",
            "2000 Loss: 0.418636679649353 Train Acc: 0.7842157842157842 Val Acc: 0.7652347652347652\n",
            "2050 Loss: 0.4251226782798767 Train Acc: 0.7982017982017982 Val Acc: 0.7902097902097902\n",
            "2100 Loss: 0.5457319021224976 Train Acc: 0.8091908091908092 Val Acc: 0.7962037962037962\n",
            "2150 Loss: 0.3975874185562134 Train Acc: 0.7722277722277723 Val Acc: 0.7502497502497503\n",
            "2200 Loss: 0.5031932592391968 Train Acc: 0.8151848151848152 Val Acc: 0.8011988011988012\n",
            "2250 Loss: 0.49374207854270935 Train Acc: 0.7672327672327672 Val Acc: 0.7582417582417582\n",
            "2300 Loss: 0.5012741684913635 Train Acc: 0.8201798201798202 Val Acc: 0.7952047952047953\n",
            "2350 Loss: 0.3798118233680725 Train Acc: 0.8181818181818182 Val Acc: 0.7912087912087912\n",
            "2400 Loss: 0.3468013405799866 Train Acc: 0.8101898101898102 Val Acc: 0.7622377622377622\n",
            "2450 Loss: 0.3834547698497772 Train Acc: 0.8281718281718282 Val Acc: 0.7992007992007992\n",
            "2500 Loss: 0.4610999822616577 Train Acc: 0.7402597402597403 Val Acc: 0.7412587412587412\n",
            "2550 Loss: 0.3153432607650757 Train Acc: 0.7842157842157842 Val Acc: 0.7662337662337663\n",
            "2600 Loss: 0.3459582030773163 Train Acc: 0.7922077922077922 Val Acc: 0.7742257742257742\n",
            "2650 Loss: 0.44177767634391785 Train Acc: 0.8171828171828172 Val Acc: 0.7892107892107892\n",
            "2700 Loss: 0.3899152874946594 Train Acc: 0.8221778221778222 Val Acc: 0.7922077922077922\n",
            "2750 Loss: 0.34255263209342957 Train Acc: 0.8301698301698301 Val Acc: 0.7902097902097902\n",
            "2800 Loss: 0.44682928919792175 Train Acc: 0.8281718281718282 Val Acc: 0.7892107892107892\n",
            "2850 Loss: 0.42264994978904724 Train Acc: 0.8291708291708292 Val Acc: 0.7792207792207793\n",
            "2900 Loss: 0.45737388730049133 Train Acc: 0.8021978021978022 Val Acc: 0.7822177822177823\n",
            "2950 Loss: 0.42979031801223755 Train Acc: 0.8241758241758241 Val Acc: 0.7902097902097902\n",
            "3000 Loss: 0.41638848185539246 Train Acc: 0.8131868131868132 Val Acc: 0.7782217782217782\n",
            "3050 Loss: 0.3035552203655243 Train Acc: 0.8401598401598401 Val Acc: 0.7962037962037962\n",
            "3100 Loss: 0.38917526602745056 Train Acc: 0.8301698301698301 Val Acc: 0.7992007992007992\n",
            "3150 Loss: 0.3630075752735138 Train Acc: 0.8231768231768232 Val Acc: 0.7792207792207793\n",
            "3200 Loss: 0.39594483375549316 Train Acc: 0.8181818181818182 Val Acc: 0.7752247752247752\n",
            "3250 Loss: 0.3875434994697571 Train Acc: 0.8521478521478522 Val Acc: 0.7992007992007992\n",
            "3300 Loss: 0.41128453612327576 Train Acc: 0.7982017982017982 Val Acc: 0.7632367632367633\n",
            "3350 Loss: 0.37163954973220825 Train Acc: 0.7562437562437563 Val Acc: 0.7382617382617382\n",
            "3400 Loss: 0.35368165373802185 Train Acc: 0.7632367632367633 Val Acc: 0.7402597402597403\n",
            "3450 Loss: 0.3407392203807831 Train Acc: 0.7932067932067932 Val Acc: 0.7642357642357642\n",
            "3500 Loss: 0.4345610737800598 Train Acc: 0.7992007992007992 Val Acc: 0.7712287712287712\n",
            "3550 Loss: 0.37398838996887207 Train Acc: 0.8361638361638362 Val Acc: 0.7912087912087912\n",
            "3600 Loss: 0.3030351400375366 Train Acc: 0.7852147852147852 Val Acc: 0.7622377622377622\n",
            "3650 Loss: 0.3848550021648407 Train Acc: 0.8431568431568431 Val Acc: 0.7902097902097902\n",
            "3700 Loss: 0.330101877450943 Train Acc: 0.8521478521478522 Val Acc: 0.8061938061938062\n",
            "3750 Loss: 0.23064227402210236 Train Acc: 0.8071928071928072 Val Acc: 0.7662337662337663\n",
            "3800 Loss: 0.3058314621448517 Train Acc: 0.7822177822177823 Val Acc: 0.7572427572427572\n",
            "3850 Loss: 0.40362846851348877 Train Acc: 0.8611388611388612 Val Acc: 0.7992007992007992\n",
            "3900 Loss: 0.36580824851989746 Train Acc: 0.8661338661338661 Val Acc: 0.8051948051948052\n",
            "3950 Loss: 0.40311917662620544 Train Acc: 0.8511488511488512 Val Acc: 0.7942057942057942\n",
            "4000 Loss: 0.3729689121246338 Train Acc: 0.8571428571428571 Val Acc: 0.7942057942057942\n",
            "4050 Loss: 0.3801979720592499 Train Acc: 0.8291708291708292 Val Acc: 0.7792207792207793\n",
            "4100 Loss: 0.3845099210739136 Train Acc: 0.8431568431568431 Val Acc: 0.7832167832167832\n",
            "4150 Loss: 0.283664733171463 Train Acc: 0.7902097902097902 Val Acc: 0.7572427572427572\n",
            "4200 Loss: 0.4378654360771179 Train Acc: 0.8611388611388612 Val Acc: 0.7862137862137862\n",
            "4250 Loss: 0.2813463509082794 Train Acc: 0.8621378621378621 Val Acc: 0.7852147852147852\n",
            "4300 Loss: 0.42145225405693054 Train Acc: 0.8651348651348651 Val Acc: 0.7892107892107892\n",
            "4350 Loss: 0.3677677512168884 Train Acc: 0.8641358641358642 Val Acc: 0.8101898101898102\n",
            "4400 Loss: 0.2807486355304718 Train Acc: 0.8651348651348651 Val Acc: 0.7932067932067932\n",
            "4450 Loss: 0.41528743505477905 Train Acc: 0.8621378621378621 Val Acc: 0.7852147852147852\n",
            "4500 Loss: 0.4125715494155884 Train Acc: 0.8401598401598401 Val Acc: 0.7972027972027972\n",
            "4550 Loss: 0.31736457347869873 Train Acc: 0.8531468531468531 Val Acc: 0.7792207792207793\n",
            "4600 Loss: 0.37001320719718933 Train Acc: 0.8331668331668332 Val Acc: 0.7922077922077922\n",
            "4650 Loss: 0.3798156976699829 Train Acc: 0.8691308691308691 Val Acc: 0.8021978021978022\n",
            "4700 Loss: 0.5426103472709656 Train Acc: 0.8601398601398601 Val Acc: 0.7832167832167832\n",
            "4750 Loss: 0.3069881498813629 Train Acc: 0.8561438561438561 Val Acc: 0.7642357642357642\n",
            "4800 Loss: 0.3303043246269226 Train Acc: 0.8441558441558441 Val Acc: 0.7762237762237763\n"
          ]
        }
      ],
      "source": [
        "# TODO: Train your model here, and include the output\n",
        "train_model(model, train_data_glove, val_data_glove)"
      ]
    },
    {
      "cell_type": "markdown",
      "id": "09f2fcca",
      "metadata": {
        "id": "09f2fcca"
      },
      "source": [
        "**Graded Task**: You might notice that a *very* smaller number of\n",
        "iterations will be required to train this model to a reasonable\n",
        "performance (e.g. >70% validation accuracy). Why might this be?"
      ]
    },
    {
      "cell_type": "code",
      "execution_count": null,
      "id": "2f7b11c5",
      "metadata": {
        "id": "2f7b11c5"
      },
      "outputs": [],
      "source": [
        "# TODO: Include your explanation here\n",
        "# Glove can capture the semantics of words and thus doesn't have to learn these features\n",
        "# from scratch. It used a large and diverse dataset to train and thus generalizes well to different\n",
        "# tasks."
      ]
    },
    {
      "cell_type": "markdown",
      "id": "57ba63a2",
      "metadata": {
        "id": "57ba63a2"
      },
      "source": [
        "**Graded Task**: Train both MyGloveRNN and MyRNN models using the corresponding\n",
        "embeddings (pretrained vs. not), **but only with the first 200 data points in the\n",
        "training set**. How do the validation accuracies compare between these two models?"
      ]
    },
    {
      "cell_type": "code",
      "execution_count": null,
      "id": "74d82ab5",
      "metadata": {
        "id": "74d82ab5",
        "colab": {
          "base_uri": "https://localhost:8080/",
          "height": 1000
        },
        "outputId": "45df5974-cebe-4083-c779-b5e72f2405f3"
      },
      "outputs": [
        {
          "output_type": "stream",
          "name": "stdout",
          "text": [
            "5 Loss: 0.6927101016044617 Train Acc: 0.585 Val Acc: 0.5044955044955045\n",
            "10 Loss: 0.6581019163131714 Train Acc: 0.595 Val Acc: 0.5114885114885115\n",
            "15 Loss: 0.6927204728126526 Train Acc: 0.595 Val Acc: 0.5134865134865135\n",
            "20 Loss: 0.5888150930404663 Train Acc: 0.585 Val Acc: 0.5114885114885115\n",
            "25 Loss: 0.6350706219673157 Train Acc: 0.615 Val Acc: 0.5104895104895105\n",
            "30 Loss: 0.5693411827087402 Train Acc: 0.64 Val Acc: 0.5154845154845155\n",
            "35 Loss: 0.5338439345359802 Train Acc: 0.64 Val Acc: 0.5184815184815185\n",
            "40 Loss: 0.4466682970523834 Train Acc: 0.695 Val Acc: 0.5214785214785215\n"
          ]
        },
        {
          "output_type": "display_data",
          "data": {
            "text/plain": [
              "<Figure size 640x480 with 1 Axes>"
            ],
            "image/png": "[encoded data removed]"
          },
          "metadata": {}
        },
        {
          "output_type": "display_data",
          "data": {
            "text/plain": [
              "<Figure size 640x480 with 1 Axes>"
            ],
            "image/png": "[encoded data removed]"
          },
          "metadata": {}
        }
      ],
      "source": [
        "# TODO: Training code for MyGloveRNN.\n",
        "# Include outputs and training curves in your submission\n",
        "model_glove = MyGloveRNN(\n",
        "              hidden_size=64,\n",
        "              num_classes=2)\n",
        "train_model(model_glove, train_data_glove[:200], val_data_glove, batch_size=40,\n",
        "            num_epochs=8, plot_every=5, plot=True)"
      ]
    },
    {
      "cell_type": "code",
      "execution_count": null,
      "id": "f6c262b5",
      "metadata": {
        "id": "f6c262b5",
        "colab": {
          "base_uri": "https://localhost:8080/",
          "height": 1000
        },
        "outputId": "3b552c89-35ae-4aad-8354-bfc44b05f08f"
      },
      "outputs": [
        {
          "output_type": "stream",
          "name": "stdout",
          "text": [
            "5 Loss: 0.7985905408859253 Train Acc: 0.565 Val Acc: 0.5064935064935064\n",
            "10 Loss: 0.6477271914482117 Train Acc: 0.565 Val Acc: 0.5064935064935064\n",
            "15 Loss: 0.6144391894340515 Train Acc: 0.565 Val Acc: 0.5064935064935064\n",
            "20 Loss: 0.6726334691047668 Train Acc: 0.565 Val Acc: 0.5064935064935064\n",
            "25 Loss: 0.5912821888923645 Train Acc: 0.565 Val Acc: 0.5064935064935064\n",
            "30 Loss: 0.6418216824531555 Train Acc: 0.565 Val Acc: 0.5064935064935064\n",
            "35 Loss: 0.5522448420524597 Train Acc: 0.565 Val Acc: 0.5064935064935064\n",
            "40 Loss: 0.4933927655220032 Train Acc: 0.565 Val Acc: 0.5074925074925075\n"
          ]
        },
        {
          "output_type": "display_data",
          "data": {
            "text/plain": [
              "<Figure size 640x480 with 1 Axes>"
            ],
            "image/png": "[encoded data removed]"
          },
          "metadata": {}
        },
        {
          "output_type": "display_data",
          "data": {
            "text/plain": [
              "<Figure size 640x480 with 1 Axes>"
            ],
            "image/png": "[encoded data removed]"
          },
          "metadata": {}
        }
      ],
      "source": [
        "# TODO: Training code for MyRNN\n",
        "# Include outputs and training curves in your submission\n",
        "model = MyRNN(vocab_size=len(vocab),\n",
        "              emb_size=300,\n",
        "              hidden_size=64,\n",
        "              num_classes=2)\n",
        "# TODO: Include your code and output\n",
        "train_model(model, train_data_indices[:200], val_data_indices, batch_size=40,\n",
        "            num_epochs=8, plot_every=5, plot=True)"
      ]
    },
    {
      "cell_type": "code",
      "execution_count": null,
      "id": "0a9aa6d1",
      "metadata": {
        "id": "0a9aa6d1"
      },
      "outputs": [],
      "source": [
        "# TODO: Compare the validation accuaries here\n",
        "# they are similar at around 0.5. The Glove model performs slightly better."
      ]
    },
    {
      "cell_type": "markdown",
      "id": "bde4f7fe",
      "metadata": {
        "id": "bde4f7fe"
      },
      "source": [
        "Machine learning models have an air of \"fairness\" about them, since models\n",
        "make decisions without human intervention. However, models can and do learn\n",
        "whatever bias is present in the training data.\n",
        "GloVe vectors seems innocuous enough: they are just representations of\n",
        "words in some embedding space. Even so, we will show that the structure\n",
        "of the GloVe vectors encodes the everyday biases present in the texts\n",
        "that they are trained on.\n",
        "\n",
        "We start with an example analogy to demonstrate the power of GloVe embeddings\n",
        "that allows us to complete analogies by applying arithmetic operations\n",
        "to the word vectors.\n",
        "\n",
        "$$doctor - man + woman \\approx ??$$\n",
        "\n",
        "To find the answers to the above analogy, we will compute the following vector,\n",
        "and then find the word whose vector representation is *closest* to it."
      ]
    },
    {
      "cell_type": "code",
      "execution_count": null,
      "id": "5c589f19",
      "metadata": {
        "id": "5c589f19"
      },
      "outputs": [],
      "source": [
        "v = glove['doctor'] - glove['man'] + glove['woman']"
      ]
    },
    {
      "cell_type": "markdown",
      "id": "6c3dfdf9",
      "metadata": {
        "id": "6c3dfdf9"
      },
      "source": [
        "**Task**: Run the code below to find the closets word. You should see the word\n",
        "\"nurse\" fairly high up in that list."
      ]
    },
    {
      "cell_type": "code",
      "execution_count": null,
      "id": "4169fcd1",
      "metadata": {
        "id": "4169fcd1",
        "colab": {
          "base_uri": "https://localhost:8080/"
        },
        "outputId": "4b1ab584-1d2e-48f0-b089-6cc005c54562"
      },
      "outputs": [
        {
          "output_type": "stream",
          "name": "stdout",
          "text": [
            "physician 6.7226787\n",
            "nurse 6.7791734\n",
            "woman 6.8218\n",
            "doctors 6.963807\n",
            "dentist 7.3165383\n"
          ]
        }
      ],
      "source": [
        "def print_closest_words(vec, n=5):\n",
        "    dists = torch.norm(glove.vectors - vec, dim=1)     # compute distances to all words\n",
        "    lst = sorted(enumerate(dists.numpy()), key=lambda x: x[1]) # sort by distance\n",
        "    for idx, difference in lst[1:n+1]: \t\t\t\t\t       # take the top n\n",
        "        print(glove.itos[idx], difference)\n",
        "\n",
        "print_closest_words(v)"
      ]
    },
    {
      "cell_type": "markdown",
      "id": "6c4bc928",
      "metadata": {
        "id": "6c4bc928"
      },
      "source": [
        "**Task**:  To compare, use a similar method to find the answer to this analogy:\n",
        "$$doctor - woman + man \\approx ??$$\n",
        "\n",
        "In other words, we go the opposite direction in the \"gender\" axis to check\n",
        "if similarly concerning analogies exist."
      ]
    },
    {
      "cell_type": "code",
      "execution_count": null,
      "id": "ee2976cb",
      "metadata": {
        "id": "ee2976cb",
        "colab": {
          "base_uri": "https://localhost:8080/"
        },
        "outputId": "e2224b69-7b9e-4467-92bb-43e2a196f4be"
      },
      "outputs": [
        {
          "output_type": "stream",
          "name": "stdout",
          "text": [
            "man 6.614642\n",
            "physician 6.8267035\n",
            "he 7.064041\n",
            "mr. 7.065585\n",
            "dr. 7.127458\n"
          ]
        }
      ],
      "source": [
        "print_closest_words(glove['doctor'] - glove['woman'] + glove['man'])"
      ]
    },
    {
      "cell_type": "markdown",
      "id": "960311f3",
      "metadata": {
        "id": "960311f3"
      },
      "source": [
        "**Task**: Compare the following two outputs."
      ]
    },
    {
      "cell_type": "code",
      "execution_count": null,
      "id": "6c92abe1",
      "metadata": {
        "id": "6c92abe1",
        "colab": {
          "base_uri": "https://localhost:8080/"
        },
        "outputId": "13f2f200-765d-49f8-e65c-4582e9071ccd"
      },
      "outputs": [
        {
          "output_type": "stream",
          "name": "stdout",
          "text": [
            "programmers 6.906153\n",
            "oly-2004-fhockey 7.1117373\n",
            "http://www.nwguild.org 7.271939\n",
            "bb94 7.282604\n",
            "homemaker 7.296883\n"
          ]
        }
      ],
      "source": [
        "print_closest_words(glove['programmer'] - glove['man'] + glove['woman'])"
      ]
    },
    {
      "cell_type": "code",
      "execution_count": null,
      "id": "d380a29d",
      "metadata": {
        "id": "d380a29d",
        "colab": {
          "base_uri": "https://localhost:8080/"
        },
        "outputId": "64bde6e0-ee65-40e9-d166-8643812f65a3"
      },
      "outputs": [
        {
          "output_type": "stream",
          "name": "stdout",
          "text": [
            "programmers 6.8631363\n",
            "_____________________________________________ 7.49171\n",
            "timewrn 7.4950824\n",
            "jahch 7.561946\n",
            "jihb 7.5969725\n"
          ]
        }
      ],
      "source": [
        "print_closest_words(glove['programmer'] - glove['woman'] + glove['man'])"
      ]
    },
    {
      "cell_type": "markdown",
      "id": "506db746",
      "metadata": {
        "id": "506db746"
      },
      "source": [
        "**Task**: Compare the following two outputs."
      ]
    },
    {
      "cell_type": "code",
      "execution_count": null,
      "id": "88d456d0",
      "metadata": {
        "id": "88d456d0",
        "colab": {
          "base_uri": "https://localhost:8080/"
        },
        "outputId": "336c6322-4906-4b14-b4a0-8d747d266c57"
      },
      "outputs": [
        {
          "output_type": "stream",
          "name": "stdout",
          "text": [
            "lecturer 6.5699987\n",
            "sociology 6.942095\n",
            "university 6.985767\n",
            "graduate 7.2252293\n",
            "researcher 7.289195\n"
          ]
        }
      ],
      "source": [
        "print_closest_words(glove['professor'] - glove['man'] + glove['woman'])"
      ]
    },
    {
      "cell_type": "code",
      "execution_count": null,
      "id": "bbccbf86",
      "metadata": {
        "id": "bbccbf86",
        "colab": {
          "base_uri": "https://localhost:8080/"
        },
        "outputId": "09d55531-64b8-4f81-88f1-c29d75f204a8"
      },
      "outputs": [
        {
          "output_type": "stream",
          "name": "stdout",
          "text": [
            "university 7.084462\n",
            "prof. 7.0947814\n",
            "emeritus 7.146991\n",
            "harvard 7.289809\n",
            "sociology 7.330031\n"
          ]
        }
      ],
      "source": [
        "print_closest_words(glove['professor'] - glove['woman'] + glove['man'])"
      ]
    },
    {
      "cell_type": "markdown",
      "id": "25e9b457",
      "metadata": {
        "id": "25e9b457"
      },
      "source": [
        "**Task**: Compare the following two outputs."
      ]
    },
    {
      "cell_type": "code",
      "execution_count": null,
      "id": "ccd22f25",
      "metadata": {
        "id": "ccd22f25",
        "colab": {
          "base_uri": "https://localhost:8080/"
        },
        "outputId": "cb9bad20-d105-419c-fe00-41477b737f43"
      },
      "outputs": [
        {
          "output_type": "stream",
          "name": "stdout",
          "text": [
            "technician 6.738221\n",
            "engineers 7.143567\n",
            "educator 7.160228\n",
            "worker 7.294498\n",
            "woman 7.3743315\n"
          ]
        }
      ],
      "source": [
        "print_closest_words(glove['engineer'] - glove['man'] + glove['woman'])"
      ]
    },
    {
      "cell_type": "code",
      "execution_count": null,
      "id": "eb7f3b3f",
      "metadata": {
        "id": "eb7f3b3f",
        "colab": {
          "base_uri": "https://localhost:8080/"
        },
        "outputId": "10442eb3-a66f-47f0-e27d-62d48f303c81"
      },
      "outputs": [
        {
          "output_type": "stream",
          "name": "stdout",
          "text": [
            "engineers 7.340744\n",
            "mechanic 7.6183243\n",
            "engineering 7.689247\n",
            "worked 7.8743134\n",
            "technician 7.9948106\n"
          ]
        }
      ],
      "source": [
        "print_closest_words(glove['engineer'] - glove['woman'] + glove['man'])"
      ]
    },
    {
      "cell_type": "markdown",
      "id": "068caae7",
      "metadata": {
        "id": "068caae7"
      },
      "source": [
        "**Graded Task**: Explain where the bias in these embeddings come from.\n",
        "Would you expect our word embeddings (trained on tweets) to be similarly\n",
        "problematic? Why or why not?"
      ]
    },
    {
      "cell_type": "code",
      "execution_count": null,
      "id": "39221b4c",
      "metadata": {
        "id": "39221b4c"
      },
      "outputs": [],
      "source": [
        "# TODO: Your explanation goes here\n",
        "# These biases comes from the training dataset that Glove uses, which are online texts. These texts would contain\n",
        "# common human biases like gender or race, and are then learned by Glove. Our tweets may not have the same problem\n",
        "# as the dataset is relatively small."
      ]
    },
    {
      "cell_type": "markdown",
      "id": "24cc4b1a",
      "metadata": {
        "id": "24cc4b1a"
      },
      "source": [
        "## Questioning your data's assumptions\n",
        "\n",
        "**Graded Task:** The task we attempted in this lab is \"sentiment analysis\". However, the \"sentiment\" of a short text snippet such as a tweet can be hard to estimate. Give at least 2 reasons for why sentiment analysis can be difficult. Consider the data itself, the labelling task, and the model training. This is an open ended task, so we will grade you not on giving the most correct response, but for making a (very) short but succinct argument for problems you can think of."
      ]
    },
    {
      "cell_type": "code",
      "execution_count": null,
      "id": "ff8544b6",
      "metadata": {
        "id": "ff8544b6"
      },
      "outputs": [],
      "source": [
        "# TODO: Your explanation goes here\n",
        "# 1. without context, it is hard to know whether a person is being honest or scarcastic.\n",
        "# 2. sentiment is subjective, so the labellers may have different views on whether a tweet\n",
        "# is positive or negative. Thus, there may be labeling noises in the dataset."
      ]
    }
  ],
  "metadata": {
    "kernelspec": {
      "display_name": "Python 3 (ipykernel)",
      "language": "python",
      "name": "python3"
    },
    "language_info": {
      "codemirror_mode": {
        "name": "ipython",
        "version": 3
      },
      "file_extension": ".py",
      "mimetype": "text/x-python",
      "name": "python",
      "nbconvert_exporter": "python",
      "pygments_lexer": "ipython3",
      "version": "3.11.8"
    },
    "colab": {
      "provenance": []
    }
  },
  "nbformat": 4,
  "nbformat_minor": 5
}